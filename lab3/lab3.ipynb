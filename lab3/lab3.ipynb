{
 "cells": [
  {
   "cell_type": "markdown",
   "id": "8d1d6992",
   "metadata": {},
   "source": [
    "---\n",
    "\n",
    "<h1><center>SDSE Lab 3 <br><br> K-means clustering </center></h1>\n",
    "\n",
    "---"
   ]
  },
  {
   "cell_type": "code",
   "execution_count": 142,
   "id": "d8a1b20a",
   "metadata": {},
   "outputs": [],
   "source": [
    "import pandas as pd\n",
    "\n",
    "result = {\n",
    "    'section_number' : 0,\n",
    "    'SIDs': [3038661550,3038663305,3034682743,3036559566] # enter the SIDs for the group members\n",
    "}"
   ]
  },
  {
   "cell_type": "code",
   "execution_count": 143,
   "id": "ffe6bff8",
   "metadata": {},
   "outputs": [],
   "source": [
    "import numpy as np\n",
    "import matplotlib.pyplot as plt\n",
    "import pickle\n",
    "from scipy.spatial import distance\n",
    "import scipy.stats as stats"
   ]
  },
  {
   "cell_type": "markdown",
   "id": "249c15f9",
   "metadata": {},
   "source": [
    "# 1) Load the data\n",
    "Use `pickle.load` to load `data2d.pickle`. This file contains a single matrix called `X`. Use variables `N` and `D` for the number of rows (samples) and columns (features) respectively. (2 pts)"
   ]
  },
  {
   "cell_type": "code",
   "execution_count": 144,
   "id": "e91d1404",
   "metadata": {},
   "outputs": [],
   "source": [
    "with open('data2d.pickle','rb') as file:\n",
    "    X = pickle.load(file)\n",
    "N = X.shape[0]\n",
    "D = X.shape[1]\n",
    "N = X[:,0]\n",
    "D = X[:,1]"
   ]
  },
  {
   "cell_type": "code",
   "execution_count": 145,
   "id": "fc142c5b",
   "metadata": {},
   "outputs": [],
   "source": [
    "################################\n",
    "# Reporting. Do not modify.#####\n",
    "result['N'] = N   # 1 point\n",
    "result['D'] = D   # 1 point\n",
    "################################"
   ]
  },
  {
   "cell_type": "markdown",
   "id": "2bc52794",
   "metadata": {},
   "source": [
    "# 2) Scatter plot\n",
    "Create a scatter plot with the first column along the x-axis and the second column along the y-axis. Use `plt.axis('equal')` to force the two axes to have the same scale. This is important for correct visualization of the Euclidean distances between points. Save your figure handle to `fig2`."
   ]
  },
  {
   "cell_type": "code",
   "execution_count": 146,
   "id": "f0537ad4",
   "metadata": {},
   "outputs": [
    {
     "data": {
      "text/plain": "<Figure size 500x500 with 1 Axes>",
      "image/png": "[encoded data removed]"
     },
     "metadata": {},
     "output_type": "display_data"
    }
   ],
   "source": [
    "fig2 = plt.figure(figsize=(5,5))\n",
    "fig2 = plt.scatter(N,D)\n",
    "plt.axis('equal')\n",
    "plt.show()\n",
    "\n",
    "# ADD YOUR CODE HERE"
   ]
  },
  {
   "cell_type": "code",
   "execution_count": 147,
   "id": "04d930f8",
   "metadata": {},
   "outputs": [],
   "source": [
    "################################\n",
    "# Reporting. Do not modify.#####\n",
    "result['fig2'] = fig2  # 2 points\n",
    "################################"
   ]
  },
  {
   "cell_type": "markdown",
   "id": "bc5f0929",
   "metadata": {},
   "source": [
    "# 3) Initialize centroids\n",
    "Complete the function below that takes the number of centroids `K` and the data matrix `X` and returns `K` randomly placed centroids. The centroids should be selected according to a uniform distribution that spans a box fitted to the data. The return value should be a numpy array with shape `(K,D)` where `D` is the number of columns in X. Make sure this function  works for for values of `D` other than 2."
   ]
  },
  {
   "cell_type": "code",
   "execution_count": 148,
   "id": "9dd2eac2",
   "metadata": {},
   "outputs": [],
   "source": [
    "def initialize_centroids(K,X):\n",
    "    mem = []\n",
    "    for k in range(K):\n",
    "        index = int(np.random.uniform(0,X.shape[0]-1))\n",
    "        mem.append(X[index])\n",
    "    return(mem)\n",
    "\n",
    "    # REMOVE THE pass AND ADD YOUR CODE HERE"
   ]
  },
  {
   "cell_type": "code",
   "execution_count": 149,
   "id": "490b9fa7",
   "metadata": {},
   "outputs": [],
   "source": [
    "################################\n",
    "# Reporting. Do not modify.#####\n",
    "result['C3'] = initialize_centroids(3,X)   # 6 points\n",
    "################################"
   ]
  },
  {
   "cell_type": "markdown",
   "id": "7d16f873",
   "metadata": {},
   "source": [
    "# 4) Compute the assignment for given centroids\n",
    "Complete the function below that takes the data matrix and centroid locations, and returns an assignment matrix `gamma`. `gamma` should be a numpy array with shape `(N,K)`. Each row of `gamma` should contain `K-1` `False` values and one `True` value in the position corresponding to the centroid that is nearest to that data point (Euclidean distance). Hint: `np.argmin`."
   ]
  },
  {
   "cell_type": "code",
   "execution_count": 150,
   "id": "318725fc",
   "metadata": {},
   "outputs": [
    {
     "name": "stdout",
     "output_type": "stream",
     "text": [
      "[[False  True False]\n",
      " [False  True False]\n",
      " [False  True False]\n",
      " [False  True False]\n",
      " [False  True False]\n",
      " [False  True False]\n",
      " [False False  True]\n",
      " [False  True False]\n",
      " [False  True False]\n",
      " [False  True False]\n",
      " [False  True False]\n",
      " [False  True False]\n",
      " [ True False False]\n",
      " [False  True False]\n",
      " [False  True False]\n",
      " [False  True False]\n",
      " [False  True False]\n",
      " [ True False False]\n",
      " [False  True False]\n",
      " [False  True False]\n",
      " [ True False False]\n",
      " [False  True False]\n",
      " [False  True False]\n",
      " [ True False False]\n",
      " [False False  True]\n",
      " [False  True False]\n",
      " [False  True False]\n",
      " [False  True False]\n",
      " [False False  True]\n",
      " [False  True False]\n",
      " [False  True False]\n",
      " [False  True False]\n",
      " [False False  True]\n",
      " [False  True False]\n",
      " [False  True False]\n",
      " [False  True False]\n",
      " [False  True False]\n",
      " [False  True False]\n",
      " [False  True False]\n",
      " [False  True False]\n",
      " [False  True False]\n",
      " [False  True False]\n",
      " [False  True False]\n",
      " [False  True False]\n",
      " [False  True False]\n",
      " [False  True False]\n",
      " [False  True False]\n",
      " [False  True False]\n",
      " [ True False False]\n",
      " [False  True False]\n",
      " [False  True False]\n",
      " [False  True False]\n",
      " [False  True False]\n",
      " [False  True False]\n",
      " [False  True False]\n",
      " [False  True False]\n",
      " [False False  True]\n",
      " [ True False False]\n",
      " [False False  True]\n",
      " [False  True False]\n",
      " [False  True False]\n",
      " [ True False False]\n",
      " [False  True False]\n",
      " [False  True False]\n",
      " [False False  True]\n",
      " [False  True False]\n",
      " [False  True False]\n",
      " [False  True False]\n",
      " [False  True False]\n",
      " [ True False False]\n",
      " [False  True False]\n",
      " [False  True False]\n",
      " [ True False False]\n",
      " [False  True False]\n",
      " [False  True False]\n",
      " [False False  True]\n",
      " [False  True False]\n",
      " [False  True False]\n",
      " [False  True False]\n",
      " [False  True False]\n",
      " [False False  True]\n",
      " [False  True False]\n",
      " [False  True False]\n",
      " [False  True False]\n",
      " [False  True False]\n",
      " [False  True False]\n",
      " [False  True False]\n",
      " [False  True False]\n",
      " [False  True False]\n",
      " [ True False False]\n",
      " [False False  True]\n",
      " [False  True False]\n",
      " [False  True False]\n",
      " [False  True False]\n",
      " [False  True False]\n",
      " [False  True False]\n",
      " [ True False False]\n",
      " [False  True False]\n",
      " [False  True False]\n",
      " [False  True False]]\n"
     ]
    }
   ],
   "source": [
    "def assign_samples_to_nearest_centroid(X,C):\n",
    "    N = len(X)\n",
    "    K = len(C)\n",
    "    gamma = np.zeros((N,K),dtype=bool)\n",
    "    #Compute the euclidien distance between data and centroid\n",
    "    index = 0\n",
    "    for data in X:\n",
    "        mem=[]\n",
    "        for cent in C:\n",
    "            mem.append(distance.euclidean(data,cent))\n",
    "        min_index = np.argmin(mem)\n",
    "        gamma[index][min_index] = True\n",
    "        index += 1\n",
    "\n",
    "\n",
    "    return gamma\n",
    "gamma =assign_samples_to_nearest_centroid(X,result['C3'])\n",
    "print(gamma)"
   ]
  },
  {
   "cell_type": "code",
   "execution_count": 151,
   "id": "3a680ce9",
   "metadata": {},
   "outputs": [],
   "source": [
    "################################\n",
    "# Reporting. Do not modify.#####\n",
    "result['gamma4'] = assign_samples_to_nearest_centroid(X,result['C3'])    # 6 points\n",
    "################################"
   ]
  },
  {
   "attachments": {
    "image.png": {
     "image/png": "[encoded data removed]"
    }
   },
   "cell_type": "markdown",
   "id": "be32df09",
   "metadata": {},
   "source": [
    "# 5) Plot data, centroids, assignment\n",
    "Complete the function below that takes the data matrix, a set of centroids, and an assignment matrix and creates a scatter plot similar to the one shown here. The centroids should be indicated with a large dot, and the data samples should be color-coded according to their cluster membership. Your plot may not look identical to this one due to the random placement of the centroids.\n",
    "\n",
    "![image.png](attachment:image.png)"
   ]
  },
  {
   "cell_type": "code",
   "execution_count": 152,
   "id": "ee58631f",
   "metadata": {},
   "outputs": [],
   "source": [
    "def plot_scatter(X, C, gamma):\n",
    "    cdict = {'red': [0],'green':[1],'yellow':[2]}\n",
    "    #Initialise a new dataframe with the family\n",
    "    g_mem_index = []\n",
    "    for closest in gamma:\n",
    "        g_mem_index.append(np.nonzero(closest)[0][0])\n",
    "    X = pd.DataFrame(X)\n",
    "    X[3]= g_mem_index\n",
    "    X = np.array(X)\n",
    "\n",
    "    #set up a cmap for the closest centroide\n",
    "\n",
    "    C = pd.DataFrame(C)\n",
    "    K = gamma.shape[1]\n",
    "    fig = plt.figure(figsize=(5,5))\n",
    "    plt.scatter(X[:,0],X[:,1], c=X[:,2])\n",
    "    plt.scatter(C[0],C[1], marker=\"o\" , c=\"yellow\", s=150)\n",
    "\n",
    "    \n",
    "    return fig"
   ]
  },
  {
   "cell_type": "code",
   "execution_count": 153,
   "id": "2d63a996",
   "metadata": {},
   "outputs": [
    {
     "data": {
      "text/plain": "<Figure size 500x500 with 1 Axes>",
      "image/png": "[encoded data removed]"
     },
     "metadata": {},
     "output_type": "display_data"
    }
   ],
   "source": [
    "################################\n",
    "# Reporting. Do not modify.#####\n",
    "result['fig5'] = plot_scatter(X, result['C3'], result['gamma4'])    # 6 points\n",
    "################################"
   ]
  },
  {
   "cell_type": "markdown",
   "id": "5c244343",
   "metadata": {},
   "source": [
    "---\n",
    "\n",
    "# An aside on boolean indexing\n",
    "\n",
    "Boolean indexing is a useful way of selecting a sub-array from a larger array according to some condition. \n",
    "\n",
    "For example, suppose we have an array `A` of length 4, consisting of the integers from 0 to 3."
   ]
  },
  {
   "cell_type": "code",
   "execution_count": 154,
   "id": "56dd33c4",
   "metadata": {},
   "outputs": [],
   "source": [
    "A = np.arange(4)"
   ]
  },
  {
   "cell_type": "markdown",
   "id": "223ca412",
   "metadata": {},
   "source": [
    "Here is how you can extract the zeroth and 2nd elements of `A` using boolean indexing:"
   ]
  },
  {
   "cell_type": "code",
   "execution_count": 155,
   "id": "4c87751c",
   "metadata": {},
   "outputs": [
    {
     "data": {
      "text/plain": "array([0, 2])"
     },
     "execution_count": 155,
     "metadata": {},
     "output_type": "execute_result"
    }
   ],
   "source": [
    "A[[True,False,True,False]]"
   ]
  },
  {
   "cell_type": "markdown",
   "id": "1384a048",
   "metadata": {},
   "source": [
    "That is, you pass the boolean array `[True,False,True,False]` as a `selector` to `A[selector]`. This technique is useful when the boolean selector is created with a condition on the values of `A`. For example, if you wanted to extract all the values that are greater than 1.4:"
   ]
  },
  {
   "cell_type": "code",
   "execution_count": 156,
   "id": "c27d10f0",
   "metadata": {},
   "outputs": [
    {
     "data": {
      "text/plain": "array([2, 3])"
     },
     "execution_count": 156,
     "metadata": {},
     "output_type": "execute_result"
    }
   ],
   "source": [
    "selector = A>1.4\n",
    "A[selector]"
   ]
  },
  {
   "cell_type": "markdown",
   "id": "d63169f8",
   "metadata": {},
   "source": [
    "or simply:"
   ]
  },
  {
   "cell_type": "code",
   "execution_count": 157,
   "id": "86aeee01",
   "metadata": {},
   "outputs": [
    {
     "data": {
      "text/plain": "array([2, 3])"
     },
     "execution_count": 157,
     "metadata": {},
     "output_type": "execute_result"
    }
   ],
   "source": [
    "A[A>1.4]"
   ]
  },
  {
   "cell_type": "markdown",
   "id": "6aa39847",
   "metadata": {},
   "source": [
    "**Optional challenge:**\n",
    "    \n",
    "Define `A` as an array of integers from 0 to 9.\n",
    "1. Find the sum of elements of A that are even numbers.\n",
    "2. Find the sum of elements of A that are greater than seven."
   ]
  },
  {
   "cell_type": "code",
   "execution_count": 158,
   "id": "54880f9f",
   "metadata": {},
   "outputs": [],
   "source": [
    "A = np.arange(10)"
   ]
  },
  {
   "cell_type": "markdown",
   "id": "f2c66a76",
   "metadata": {},
   "source": [
    "---"
   ]
  },
  {
   "cell_type": "markdown",
   "id": "bed3c565",
   "metadata": {},
   "source": [
    "# 6) Compute the centroids for a given assignment\n",
    "Complete the function below that takes the assignment and the data matrix and returns centroids placed at the mean of each cluster. The return value should be a numpy array with shape `(K,D)`."
   ]
  },
  {
   "cell_type": "code",
   "execution_count": 170,
   "id": "fe53f2f7",
   "metadata": {},
   "outputs": [],
   "source": [
    "from sklearn.neighbors._nearest_centroid import NearestCentroid\n",
    "def place_centroids(gamma, X):\n",
    "    K = gamma.shape[1]\n",
    "    D = X.shape[1]\n",
    "    C = np.empty((K,D))\n",
    "\n",
    "\n",
    "    for k in range(K):\n",
    "        clu = X[gamma[:,k]]\n",
    "        if clu is not None:\n",
    "            C[k,:] = np.mean(clu,axis=0)\n",
    "\n",
    "   # g_mem_index = []\n",
    "    #for closest in gamma:\n",
    "     #   g_mem_index.append(np.nonzero(closest)[0][0])\n",
    "    #X = pd.DataFrame(X)\n",
    "    #X[3]= g_mem_index\n",
    "    #X = np.array(X)\n",
    "\n",
    "    #clf = NearestCentroid()\n",
    "    #clf.fit(X,g_mem_index)\n",
    "    #C = clf.centroids_\n",
    "    #C = np.delete(C,2,1)\n",
    "\n",
    "    return C"
   ]
  },
  {
   "cell_type": "code",
   "execution_count": 171,
   "id": "8f94b5fd",
   "metadata": {},
   "outputs": [],
   "source": [
    "################################\n",
    "# Reporting. Do not modify.#####\n",
    "result['C6'] = place_centroids(result['gamma4'], X)    # 6 points\n",
    "################################"
   ]
  },
  {
   "cell_type": "markdown",
   "id": "2fe85937",
   "metadata": {},
   "source": [
    "# 7) Code K-means\n",
    "Now we will use some of the functions we've developed to code the full k-means algorithm. \n",
    "\n",
    "Most of the algorithm has been written for you in terms of the functions you've already implemented. Your task is only to write the stopping criterion, which is to stop as soon as the assignment `gamma` does not change from one iteration to the next."
   ]
  },
  {
   "cell_type": "code",
   "execution_count": 172,
   "id": "8bba0755",
   "metadata": {},
   "outputs": [],
   "source": [
    "def run_kmeans(X,C):\n",
    "\n",
    "    done = False\n",
    "    first = True\n",
    "    \n",
    "    while not done:\n",
    "\n",
    "        gamma = assign_samples_to_nearest_centroid(X,C)\n",
    "        C = place_centroids(gamma, X)\n",
    "        \n",
    "        if np.any(np.isnan(C)):\n",
    "            C = None\n",
    "            gamma = None\n",
    "            break\n",
    "\n",
    "        if not first:\n",
    "            if np.array_equal(gammaold, gamma):\n",
    "                done = True\n",
    "                break\n",
    "\n",
    "\n",
    "            \n",
    "        gammaold = gamma\n",
    "        \n",
    "        first = False\n",
    "\n",
    "    return C, gamma"
   ]
  },
  {
   "cell_type": "code",
   "execution_count": 173,
   "id": "09b8ffc8",
   "metadata": {},
   "outputs": [],
   "source": [
    "################################\n",
    "# Reporting. Do not modify.#####\n",
    "result['kmeans7'] = run_kmeans(X,result['C3'])    # 4 points\n",
    "################################"
   ]
  },
  {
   "cell_type": "markdown",
   "id": "6d3b6abb",
   "metadata": {},
   "source": [
    "# 8) Evaluate the cost function \n",
    "Complete the function below that evaluates the cost function (total inertia) for a given data matrix, centroid placement, and assignment matrix. The result is a scalar value.\n",
    "\n",
    "$\n",
    "J = \\sum_{i=1}^{N} \\sum_{k=1}^{K} \\gamma_{i,k}( x_i - \\mu_k )^2 \n",
    "$"
   ]
  },
  {
   "cell_type": "code",
   "execution_count": 174,
   "id": "8e90e43e",
   "metadata": {},
   "outputs": [],
   "source": [
    "import math\n",
    "def eval_cost(X,C,gamma):\n",
    "    \n",
    "    K = gamma.shape[1]\n",
    "    N = gamma.shape[0]\n",
    "    \n",
    "    sum = 0\n",
    "    \n",
    "    \n",
    "    for i in range(N):\n",
    "        \n",
    "        for j in range(K):\n",
    "            \n",
    "            sum += int(gamma[i,j])*(X[i,:]-C[j])**2\n",
    "    \n",
    "    \n",
    "    cost = (sum[0]**2+sum[1]**2)**0.5\n",
    "    \n",
    "    # REPLACE THE None WITH THE CORRECT COST FUNCTION\n",
    "                                    \n",
    "    return cost\n",
    "\n",
    "\n",
    "C = place_centroids(gamma, X)\n",
    "C, gamma = run_kmeans(X,C)\n"
   ]
  },
  {
   "cell_type": "code",
   "execution_count": 175,
   "id": "fdcb797f",
   "metadata": {},
   "outputs": [],
   "source": [
    "################################\n",
    "# Reporting. Do not modify.#####\n",
    "result['cost8'] = eval_cost(X,result['C3'],result['gamma4'])    # 6 points\n",
    "################################"
   ]
  },
  {
   "cell_type": "markdown",
   "id": "4ad7dc0f",
   "metadata": {},
   "source": [
    "# 9) Ensemble run\n",
    "Complete the function below that runs kmeans `ensemblesize` times, each with a different initial centroid placement. These initial placements should be chosen with `initialize_centroids(K,X)`. The function should return the single run with the lowest cost. Results should be returned in a **dictionary** with keys `('C','gamma','cost')`. `C` are the best centroids, `gamma` is t|he best assignment, and `cost` is the corresponding cost."
   ]
  },
  {
   "cell_type": "code",
   "execution_count": 182,
   "id": "af323e60",
   "metadata": {},
   "outputs": [],
   "source": [
    "def ensemble_run(K,X,ensemblesize):\n",
    "    best_run = {'C':[],'gamma':[],'cost':[]}\n",
    "    \n",
    "    for e in range(ensemblesize):\n",
    "        \n",
    "        done = False\n",
    "        while not done:\n",
    "            C = initialize_centroids(K,X)\n",
    "            C, gamma = run_kmeans(X,C)\n",
    "            done = C is not None\n",
    "        \n",
    "        cost = eval_cost(X,C,gamma)\n",
    "       \n",
    "        # ADD CODE HERE THAT WILL KEEP ONLY THE BEST RUN\n",
    "        newrow = {'C':C,'gamma':gamma,'cost':cost}\n",
    "\n",
    "        best_run['C'].append(C)\n",
    "        best_run['gamma'].append(gamma)\n",
    "        best_run['cost'].append(cost)\n",
    "\n",
    "\n",
    "\n",
    "    min_value = min(best_run['cost'])\n",
    "    min_index = best_run['cost'].index(min_value)\n",
    "    best_run = {'C':best_run['C'][min_index],'gamma': best_run['gamma'][min_index],'cost':best_run['cost'][min_index]}\n",
    "    \n",
    "    return best_run\n",
    "\n",
    "# K = gamma.shape[1]\n",
    "# print(ensemble_run(K,X,3))\n"
   ]
  },
  {
   "cell_type": "code",
   "execution_count": 183,
   "id": "561898e3",
   "metadata": {},
   "outputs": [],
   "source": [
    "################################\n",
    "# Reporting. Do not modify.#####\n",
    "result['ens9'] = ensemble_run(3,X,100)    # 6 points\n",
    "################################"
   ]
  },
  {
   "cell_type": "markdown",
   "id": "61d67976",
   "metadata": {},
   "source": [
    "# 10) Iteration over K\n",
    "Complete the function below that takes the data matrix, a sample size, and a maximum number of clusters to consider (`maxK`).  The function should run `ensemble_run` for all values of `K` from 1 to `maxK`. It should return a numpy array of length `maxK-1` with the best case cost for each value of `K`."
   ]
  },
  {
   "cell_type": "code",
   "execution_count": 184,
   "id": "afc7024c",
   "metadata": {},
   "outputs": [],
   "source": [
    "def K_iteration(X, ensemblesize, maxK=10):\n",
    "    \n",
    "    allK = list(range(1,maxK))\n",
    "    best_cost = np.empty(len(allK))\n",
    "\n",
    "    for i in allK:\n",
    "        \n",
    "        best_run = ensemble_run(i,X,ensemblesize)\n",
    "        best_cost[i-1] = best_run['cost']\n",
    "\n",
    "    return best_cost"
   ]
  },
  {
   "cell_type": "markdown",
   "id": "46bdd5ca",
   "metadata": {},
   "source": [
    "# 11) Selecting K\n",
    "\n",
    "We now run `K_iteration` with `ensemblesize=200`, `maxK=10` and plot the result. The plot shows the percent improvement of each `K` over `K-1`. From this plot, choose an ideal value for `K` and report it in the results dictionary as `Kideal`."
   ]
  },
  {
   "cell_type": "code",
   "execution_count": 185,
   "id": "2ea62719",
   "metadata": {},
   "outputs": [
    {
     "data": {
      "text/plain": "(array([  0.,  25.,  50.,  75., 100., 125., 150., 175., 200.]),\n [Text(0, 0, ''),\n  Text(0, 0, ''),\n  Text(0, 0, ''),\n  Text(0, 0, ''),\n  Text(0, 0, ''),\n  Text(0, 0, ''),\n  Text(0, 0, ''),\n  Text(0, 0, ''),\n  Text(0, 0, '')])"
     },
     "execution_count": 185,
     "metadata": {},
     "output_type": "execute_result"
    },
    {
     "data": {
      "text/plain": "<Figure size 800x500 with 1 Axes>",
      "image/png": "[encoded data removed]"
     },
     "metadata": {},
     "output_type": "display_data"
    }
   ],
   "source": [
    "ensemblesize = 200\n",
    "maxK=10\n",
    "best_cost = K_iteration(X, ensemblesize, maxK)\n",
    "\n",
    "fig11 = plt.figure(figsize=(8,5))\n",
    "allK = list(range(1,maxK))\n",
    "plt.plot(allK[1:],100*np.abs(np.diff(best_cost)) / best_cost[1:],\n",
    "         linewidth=3,\n",
    "         marker='o',\n",
    "         markersize=8)\n",
    "plt.grid()\n",
    "plt.xticks(fontsize=16)\n",
    "plt.yticks(fontsize=16)"
   ]
  },
  {
   "cell_type": "code",
   "execution_count": 186,
   "id": "cb3be597",
   "metadata": {},
   "outputs": [],
   "source": [
    "# REPLACE THE None WITH YOUR Kideal VALUE.\n",
    "\n",
    "Kideal = 5"
   ]
  },
  {
   "cell_type": "code",
   "execution_count": 187,
   "id": "fca282c2",
   "metadata": {},
   "outputs": [],
   "source": [
    "################################\n",
    "# Reporting. Do not modify.#####\n",
    "result['fig11'] = fig11      # 6 points\n",
    "result['Kideal'] = Kideal    # 4 points\n",
    "################################"
   ]
  },
  {
   "cell_type": "markdown",
   "id": "9a3546c8",
   "metadata": {},
   "source": [
    "---\n",
    "## Do not modify below this"
   ]
  },
  {
   "cell_type": "code",
   "execution_count": null,
   "id": "071c6e74",
   "metadata": {},
   "outputs": [],
   "source": [
    "with open('{}.pickle'.format(\"_\".join([str(sid) for sid in result['SIDs']])),'wb') as file:\n",
    "    pickle.dump(result,file)"
   ]
  }
 ],
 "metadata": {
  "kernelspec": {
   "display_name": "Python 3 (ipykernel)",
   "language": "python",
   "name": "python3"
  },
  "language_info": {
   "codemirror_mode": {
    "name": "ipython",
    "version": 3
   },
   "file_extension": ".py",
   "mimetype": "text/x-python",
   "name": "python",
   "nbconvert_exporter": "python",
   "pygments_lexer": "ipython3",
   "version": "3.9.12"
  }
 },
 "nbformat": 4,
 "nbformat_minor": 5
}