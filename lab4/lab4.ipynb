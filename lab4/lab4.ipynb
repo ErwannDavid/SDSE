{
 "cells": [
  {
   "cell_type": "code",
   "execution_count": 3,
   "metadata": {
    "deletable": false,
    "editable": false
   },
   "outputs": [],
   "source": [
    "# Initialize Otter\n",
    "import otter\n",
    "grader = otter.Notebook(\"lab4.ipynb\")"
   ]
  },
  {
   "cell_type": "markdown",
   "metadata": {},
   "source": [
    "---\n",
    "\n",
    "<h1><center>SDSE Lab 4 <br><br> Linear regression and Feature selection </center></h1>\n",
    "\n",
    "---\n",
    "\n",
    "In this lab we will use linear regression to predict cancer mortality rates based on data obtained from the American Community Survey of the [U.S. Census Bureau](https://www.census.gov/). The lab has four parts. In part 1 you will load the data and do basic manipulations using [pandas](https://pandas.pydata.org/docs/index.html). In part 2 you will perform basic linear regression on the full feature set. In part 3 you will compute confidence intervals and perform hypothesis tests on the paramters from part 2. Then in part 4 you will run the forward and backward stepwise feature selection algorithms and estimate the performance of the resulting model using a test dataset.\n",
    "\n"
   ]
  },
  {
   "cell_type": "code",
   "execution_count": 4,
   "metadata": {
    "pycharm": {
     "name": "#%%\n"
    }
   },
   "outputs": [],
   "source": [
    "import numpy as np\n",
    "import matplotlib.pyplot as plt\n",
    "import pandas as pd\n",
    "import scipy.stats as stats"
   ]
  },
  {
   "cell_type": "markdown",
   "metadata": {},
   "source": [
    "<h1><font color='purple'> Part 1:  Loading and cleaning the data</font></h1>"
   ]
  },
  {
   "cell_type": "markdown",
   "metadata": {},
   "source": [
    "## 1.1 Load the data into a pandas DataFrame\n",
    "\n",
    "See a description of the data [here](https://data.world/nrippner/ols-regression-challenge).\n",
    "\n",
    "You can obtain information about the data using these pandas commands:\n",
    "+ `data.head()` to see the first 5 rows of the DataFrame.\n",
    "+ `data.tail()` to see the last 5 rows of the DataFrame.\n",
    "+ `data.shape` is the tuple (number of rows, number of columns).\n",
    "+ `data.columns` contains the column labels.\n",
    "+ `data.index` contains the row labels."
   ]
  },
  {
   "cell_type": "code",
   "execution_count": 5,
   "metadata": {
    "jupyter": {
     "outputs_hidden": false
    },
    "tags": []
   },
   "outputs": [],
   "source": [
    "data = pd.read_csv('cancer_reg.csv')"
   ]
  },
  {
   "cell_type": "markdown",
   "metadata": {},
   "source": [
    "## 1.2 Inspect columns\n",
    "\n",
    "Run `data.info()` and note:\n",
    " a) which columns are non-numeric (Dtype=object), and\n",
    " b) which have null entries (Non-Null Count<3047)."
   ]
  },
  {
   "cell_type": "code",
   "execution_count": 6,
   "metadata": {
    "jupyter": {
     "outputs_hidden": false
    },
    "tags": []
   },
   "outputs": [
    {
     "name": "stdout",
     "output_type": "stream",
     "text": [
      "<class 'pandas.core.frame.DataFrame'>\n",
      "RangeIndex: 3047 entries, 0 to 3046\n",
      "Data columns (total 28 columns):\n",
      " #   Column                   Non-Null Count  Dtype  \n",
      "---  ------                   --------------  -----  \n",
      " 0   target_deathrate         3047 non-null   float64\n",
      " 1   incidencerate            3047 non-null   float64\n",
      " 2   medincome                3047 non-null   int64  \n",
      " 3   povertypercent           3047 non-null   float64\n",
      " 4   binnedinc                3047 non-null   object \n",
      " 5   medianage                3047 non-null   float64\n",
      " 6   geography                3047 non-null   object \n",
      " 7   avghouseholdsize         3047 non-null   float64\n",
      " 8   percentmarried           3047 non-null   float64\n",
      " 9   pctnohs18_24             3047 non-null   float64\n",
      " 10  pcths18_24               3047 non-null   float64\n",
      " 11  pctsomecol18_24          762 non-null    float64\n",
      " 12  pctbachdeg18_24          3047 non-null   float64\n",
      " 13  pcths25_over             3047 non-null   float64\n",
      " 14  pctbachdeg25_over        3047 non-null   float64\n",
      " 15  pctemployed16_over       2895 non-null   float64\n",
      " 16  pctunemployed16_over     3047 non-null   float64\n",
      " 17  pctprivatecoverage       3047 non-null   float64\n",
      " 18  pctprivatecoveragealone  2438 non-null   float64\n",
      " 19  pctempprivcoverage       3047 non-null   float64\n",
      " 20  pctpubliccoverage        3047 non-null   float64\n",
      " 21  pctpubliccoveragealone   3047 non-null   float64\n",
      " 22  pctwhite                 3047 non-null   float64\n",
      " 23  pctblack                 3047 non-null   float64\n",
      " 24  pctasian                 3047 non-null   float64\n",
      " 25  pctotherrace             3047 non-null   float64\n",
      " 26  pctmarriedhouseholds     3047 non-null   float64\n",
      " 27  birthrate                3047 non-null   float64\n",
      "dtypes: float64(25), int64(1), object(2)\n",
      "memory usage: 666.7+ KB\n"
     ]
    }
   ],
   "source": [
    "data.info()"
   ]
  },
  {
   "cell_type": "markdown",
   "metadata": {},
   "source": [
    "## 1.3 Discard non-numerical columns\n",
    "\n",
    "Remove the two columns with non-numeric data.\n",
    "Hints:\n",
    "+ `data.dtypes` lists the data types for each column.\n",
    "+ You can construct a boolean indicator array of non-numeric colums with `data.dtypes=='object'`.\n",
    "+ Use that array to index `data.columns`\n",
    "+ Use [`data.drop`](https://pandas.pydata.org/docs/reference/api/pandas.DataFrame.drop.html) to remove the selected columns"
   ]
  },
  {
   "cell_type": "code",
   "execution_count": 7,
   "metadata": {
    "jupyter": {
     "outputs_hidden": false
    },
    "tags": []
   },
   "outputs": [],
   "source": [
    "ind = data.index   # indicator array\n",
    "drop_cols = [\"geography\",\"binnedinc\"]\n",
    "data = data.drop(drop_cols, axis=1)"
   ]
  },
  {
   "cell_type": "code",
   "execution_count": 8,
   "metadata": {
    "deletable": false,
    "editable": false
   },
   "outputs": [
    {
     "data": {
      "text/plain": "q1p3 results: All test cases passed!",
      "text/html": "<p><strong><pre style='display: inline;'>q1p3</pre></strong> passed! 💯</p>"
     },
     "execution_count": 8,
     "metadata": {},
     "output_type": "execute_result"
    }
   ],
   "source": [
    "grader.check(\"q1p3\")"
   ]
  },
  {
   "cell_type": "markdown",
   "metadata": {},
   "source": [
    "## 1.4 Discard columns where more than 10% of values are nan\n",
    "\n",
    "Hints:\n",
    "+ [`data.dropna`](https://pandas.pydata.org/docs/reference/api/pandas.DataFrame.dropna.html)\n",
    "+ `axis` ... we are dropping columns\n",
    "+ `thresh` ... The condition for dropping a column is that it has less than `round(0.9*data.shape[0])` non-nans.\n"
   ]
  },
  {
   "cell_type": "code",
   "execution_count": 9,
   "metadata": {
    "jupyter": {
     "outputs_hidden": false
    },
    "tags": []
   },
   "outputs": [
    {
     "data": {
      "text/plain": "(3047, 24)"
     },
     "execution_count": 9,
     "metadata": {},
     "output_type": "execute_result"
    }
   ],
   "source": [
    "thresh = round(0.9*data.shape[0])\n",
    "data = data.dropna(thresh=thresh, axis=1 )\n",
    "data.shape"
   ]
  },
  {
   "cell_type": "markdown",
   "metadata": {},
   "source": [
    "## 1.5 Drop all rows that contain one or more nans.\n",
    "\n",
    "Hint: You can again use `data.dropna` for this."
   ]
  },
  {
   "cell_type": "code",
   "execution_count": 10,
   "metadata": {
    "jupyter": {
     "outputs_hidden": false
    },
    "tags": []
   },
   "outputs": [
    {
     "data": {
      "text/plain": "(2895, 24)"
     },
     "execution_count": 10,
     "metadata": {},
     "output_type": "execute_result"
    }
   ],
   "source": [
    "data = data.dropna(axis=0)\n",
    "data.shape"
   ]
  },
  {
   "cell_type": "markdown",
   "metadata": {},
   "source": [
    "## 1.6 Inspect correlations\n",
    "\n",
    "Next we'll look at the correlation coefficients between each of the features and the target variable `target_deathrate`.\n",
    "\n",
    "1) Use `data.corr()` to build the correlations matrix.\n",
    "2) Inspect the column (or row) corresponding to `target_deathrate`.\n",
    "3) Rank (i.e. sort) the features from most to least correlated with the output. This ranking is in terms of the absolute value of the correlation coefficient.\n",
    "4) Save the top 5 correlated features to `top_5_corr`. `top_5_corr` should be a numpy array with shape `(5,)`.\n",
    "\n",
    "Hints:\n",
    "+ [`abs`](https://pandas.pydata.org/docs/reference/api/pandas.Series.abs.html)\n",
    "+ [`sort_values`](https://pandas.pydata.org/docs/reference/api/pandas.Series.sort_values.html)\n",
    "+ [`to_numpy`](https://pandas.pydata.org/docs/reference/api/pandas.Series.to_numpy.html)"
   ]
  },
  {
   "cell_type": "code",
   "execution_count": 11,
   "metadata": {
    "jupyter": {
     "outputs_hidden": false
    },
    "tags": []
   },
   "outputs": [
    {
     "data": {
      "text/plain": "pctbachdeg25_over         0.482594\npctpubliccoveragealone    0.448087\nincidencerate             0.428787\nmedincome                 0.426784\npovertypercent            0.425083\nName: target_deathrate, dtype: float64"
     },
     "execution_count": 11,
     "metadata": {},
     "output_type": "execute_result"
    }
   ],
   "source": [
    "# correlation matrix\n",
    "C = abs(data.corr())\n",
    "\n",
    "# vector correlations between the features and target_deathrate\n",
    "corr_target = C[\"target_deathrate\"]\n",
    "\n",
    "# sorted corr_target_sort\n",
    "corr_target_sort = corr_target.sort_values(ascending=False)\n",
    "\n",
    "# top 5 correlations with target_deathrate\n",
    "top_5_sort = corr_target_sort[1:6]\n",
    "top_5_sort"
   ]
  },
  {
   "cell_type": "markdown",
   "metadata": {},
   "source": [
    "## 1.7 Scatter plot\n",
    "\n",
    "Make a scatter plot of the data with the most correlated feature along the x axis, and the target along the y axis.\n",
    "\n",
    "Hint: You can use the plotting function attached to the DataFrame: [data.plot(kind='scatter',x=..., y=...)](https://pandas.pydata.org/docs/reference/api/pandas.DataFrame.plot.html)"
   ]
  },
  {
   "cell_type": "code",
   "execution_count": 12,
   "metadata": {
    "jupyter": {
     "outputs_hidden": false
    },
    "tags": []
   },
   "outputs": [
    {
     "data": {
      "text/plain": "<matplotlib.collections.PathCollection at 0x198a5278d90>"
     },
     "execution_count": 12,
     "metadata": {},
     "output_type": "execute_result"
    },
    {
     "data": {
      "text/plain": "<Figure size 640x480 with 1 Axes>",
      "image/png": "[encoded data removed]"
     },
     "metadata": {},
     "output_type": "display_data"
    }
   ],
   "source": [
    "top_5_sort[0]\n",
    "x_axis = data['pctbachdeg25_over']\n",
    "y_axis = data['target_deathrate']\n",
    "plt.scatter(x_axis,y_axis)"
   ]
  },
  {
   "cell_type": "markdown",
   "metadata": {},
   "source": [
    "---\n",
    "\n",
    "<h1><font color='purple'> Part 2: Linear regression - Point estimates</font></h1>"
   ]
  },
  {
   "cell_type": "markdown",
   "metadata": {},
   "source": [
    "## 2.1 Extract data matrices\n",
    "\n",
    "The next cell extracts the `X` and `Y` matrices from `data`. It also makes a list of `features`, and defines dimensions `N` and `D`."
   ]
  },
  {
   "cell_type": "code",
   "execution_count": 13,
   "metadata": {
    "jupyter": {
     "outputs_hidden": false
    },
    "tags": []
   },
   "outputs": [],
   "source": [
    "X = data.drop(columns='target_deathrate').values\n",
    "features = data.columns.values\n",
    "features = features[features!='target_deathrate']\n",
    "Y = data['target_deathrate'].values\n",
    "\n",
    "N = X.shape[0]\n",
    "D = X.shape[1]"
   ]
  },
  {
   "cell_type": "markdown",
   "metadata": {},
   "source": [
    "## 2.2 Prepend a column of ones\n",
    "\n",
    "To include the intercept term $\\theta_0$ in our regression, we must add a column of ones to `X`. Overwrite `X` with the matrix $[1_N, X]$, where $1_N$ is a column of `N` ones.\n",
    "\n",
    "Hints:\n",
    "+ [np.ones](https://numpy.org/doc/stable/reference/generated/numpy.ones.html)\n",
    "+ [np.hstack](https://numpy.org/doc/stable/reference/generated/numpy.hstack.html)\n",
    "+ The final shape of `X` should be (2895, 24)"
   ]
  },
  {
   "cell_type": "code",
   "execution_count": 14,
   "metadata": {
    "jupyter": {
     "outputs_hidden": false
    },
    "tags": []
   },
   "outputs": [
    {
     "data": {
      "text/plain": "(2895, 24)"
     },
     "execution_count": 14,
     "metadata": {},
     "output_type": "execute_result"
    }
   ],
   "source": [
    "ones = (np.ones(N))\n",
    "X = np.c_[ones, X ]  \n",
    "X.shape"
   ]
  },
  {
   "cell_type": "code",
   "execution_count": 15,
   "metadata": {
    "deletable": false,
    "editable": false
   },
   "outputs": [
    {
     "data": {
      "text/plain": "q2p2 results: All test cases passed!",
      "text/html": "<p><strong><pre style='display: inline;'>q2p2</pre></strong> passed! ✨</p>"
     },
     "execution_count": 15,
     "metadata": {},
     "output_type": "execute_result"
    }
   ],
   "source": [
    "grader.check(\"q2p2\")"
   ]
  },
  {
   "cell_type": "markdown",
   "metadata": {},
   "source": [
    "## 2.3 Compute $V=(\\mathbf{X}^T \\mathbf{X})^{-1}$\n",
    "\n",
    "Hints:\n",
    "+ numpy's @ operator and matrix transposition (`X.T`). See [this](https://numpy.org/devdocs/user/numpy-for-matlab-users.html) summary of the key differences between numpy and Matlab.\n",
    "+ [np.linalg.inv](https://numpy.org/doc/stable/reference/generated/numpy.linalg.inv.html)"
   ]
  },
  {
   "cell_type": "code",
   "execution_count": 16,
   "metadata": {
    "jupyter": {
     "outputs_hidden": false
    },
    "tags": []
   },
   "outputs": [],
   "source": [
    "V = np.linalg.inv(X.T@X)"
   ]
  },
  {
   "cell_type": "code",
   "execution_count": 17,
   "metadata": {
    "deletable": false,
    "editable": false
   },
   "outputs": [
    {
     "data": {
      "text/plain": "q2p3 results: All test cases passed!",
      "text/html": "<p><strong><pre style='display: inline;'>q2p3</pre></strong> passed! 💯</p>"
     },
     "execution_count": 17,
     "metadata": {},
     "output_type": "execute_result"
    }
   ],
   "source": [
    "grader.check(\"q2p3\")"
   ]
  },
  {
   "cell_type": "markdown",
   "metadata": {},
   "source": [
    "## 2.4 Compute the least squares estimates of the parameters\n",
    "\n",
    "### ${\\hat\\theta} = V \\mathbf{X}^{T} \\mathbf{Y}$"
   ]
  },
  {
   "cell_type": "code",
   "execution_count": 18,
   "metadata": {
    "jupyter": {
     "outputs_hidden": false
    },
    "tags": []
   },
   "outputs": [],
   "source": [
    "thetahat = V@X.T@Y"
   ]
  },
  {
   "cell_type": "code",
   "execution_count": 19,
   "metadata": {
    "deletable": false,
    "editable": false
   },
   "outputs": [
    {
     "data": {
      "text/plain": "q2p4 results: All test cases passed!",
      "text/html": "<p><strong><pre style='display: inline;'>q2p4</pre></strong> passed! 🙌</p>"
     },
     "execution_count": 19,
     "metadata": {},
     "output_type": "execute_result"
    }
   ],
   "source": [
    "grader.check(\"q2p4\")"
   ]
  },
  {
   "cell_type": "markdown",
   "metadata": {},
   "source": [
    "## 2.5 Compute predictions for each of the samples\n",
    "\n",
    "### $\\hat\\mathbf{Y} = \\mathbf{X} \\hat\\theta$"
   ]
  },
  {
   "cell_type": "code",
   "execution_count": 20,
   "metadata": {
    "jupyter": {
     "outputs_hidden": false
    },
    "tags": []
   },
   "outputs": [
    {
     "name": "stdout",
     "output_type": "stream",
     "text": [
      "[164.9 161.3 174.7 ... 150.1 153.9 213.6]\n"
     ]
    }
   ],
   "source": [
    "Yhat = thetahat@X.T\n",
    "print(Y)"
   ]
  },
  {
   "cell_type": "code",
   "execution_count": 21,
   "metadata": {
    "deletable": false,
    "editable": false
   },
   "outputs": [
    {
     "data": {
      "text/plain": "q2p5 results: All test cases passed!",
      "text/html": "<p><strong><pre style='display: inline;'>q2p5</pre></strong> passed! 🚀</p>"
     },
     "execution_count": 21,
     "metadata": {},
     "output_type": "execute_result"
    }
   ],
   "source": [
    "grader.check(\"q2p5\")"
   ]
  },
  {
   "cell_type": "markdown",
   "metadata": {},
   "source": [
    "---\n",
    "\n",
    "<h1><font color='purple'> Part 3: Parameter uncertainty and hypothesis test</font></h1>"
   ]
  },
  {
   "cell_type": "markdown",
   "metadata": {},
   "source": [
    "## 3.1 Estimate $\\sigma_Y^2$, the standard deviation of the output:\n",
    "\n",
    "### $\\hat\\sigma_Y = \\sqrt{ \\frac{1}{N-D-1} \\sum_{i=1}^{N}(y_i-\\hat{y}_i)^2 }$"
   ]
  },
  {
   "cell_type": "code",
   "execution_count": 22,
   "metadata": {
    "jupyter": {
     "outputs_hidden": false
    },
    "tags": []
   },
   "outputs": [],
   "source": [
    "sum = 0\n",
    "for i in range(N):\n",
    "    sum += (Y[i]-Yhat[i])**2\n",
    "    \n",
    "sigmahatY = ((1/(N-D-1))*sum)**0.5\n"
   ]
  },
  {
   "cell_type": "markdown",
   "metadata": {
    "tags": []
   },
   "source": [
    "## 3.2 Compute the standard deviations of the parameter estimates\n",
    "\n",
    "### $\\sigma_i = Std(\\hat\\theta_i) = \\hat\\sigma_Y \\sqrt{ v_i } $\n",
    "\n",
    "Here $v_i$ is the $i$'th diagonal component of $V$."
   ]
  },
  {
   "cell_type": "code",
   "execution_count": 23,
   "metadata": {
    "jupyter": {
     "outputs_hidden": false
    },
    "tags": []
   },
   "outputs": [],
   "source": [
    "v = np.diagonal(V)\n",
    "sigma_theta = [0]*V.shape[0]\n",
    "for i in range(V.shape[0]):\n",
    "    \n",
    "    sigma_theta[i] = sigmahatY*((v[i])**0.5)\n",
    "\n",
    "sigma_theta = np.array(sigma_theta)\n"
   ]
  },
  {
   "cell_type": "code",
   "execution_count": 24,
   "metadata": {
    "deletable": false,
    "editable": false
   },
   "outputs": [
    {
     "data": {
      "text/plain": "q3p2 results: All test cases passed!",
      "text/html": "<p><strong><pre style='display: inline;'>q3p2</pre></strong> passed! 🎉</p>"
     },
     "execution_count": 24,
     "metadata": {},
     "output_type": "execute_result"
    }
   ],
   "source": [
    "grader.check(\"q3p2\")"
   ]
  },
  {
   "cell_type": "markdown",
   "metadata": {},
   "source": [
    "## 3.3 Conduct a hypothesis test on each of the parameters, with the null hypothesis that the parameter value is zero. Use a significance level of $\\alpha=0.05$."
   ]
  },
  {
   "cell_type": "code",
   "execution_count": 25,
   "metadata": {
    "jupyter": {
     "outputs_hidden": false
    }
   },
   "outputs": [],
   "source": [
    "alpha = 0.05"
   ]
  },
  {
   "cell_type": "markdown",
   "metadata": {},
   "source": [
    "### 3.3.1 Compute Z for each parameter\n",
    "\n",
    "### $Z_i = \\hat\\theta_i/\\sigma_i$"
   ]
  },
  {
   "cell_type": "code",
   "execution_count": 26,
   "metadata": {
    "jupyter": {
     "outputs_hidden": false
    },
    "tags": []
   },
   "outputs": [],
   "source": [
    "Z = [0]*thetahat.shape[0]\n",
    "for i in range(thetahat.shape[0]):\n",
    "    Z[i] = thetahat[i]/sigma_theta[i]\n",
    "Z = np.array(Z)"
   ]
  },
  {
   "cell_type": "code",
   "execution_count": 27,
   "metadata": {
    "deletable": false,
    "editable": false
   },
   "outputs": [
    {
     "data": {
      "text/plain": "q3p3p1 results: All test cases passed!",
      "text/html": "<p><strong><pre style='display: inline;'>q3p3p1</pre></strong> passed! 🌈</p>"
     },
     "execution_count": 27,
     "metadata": {},
     "output_type": "execute_result"
    }
   ],
   "source": [
    "grader.check(\"q3p3p1\")"
   ]
  },
  {
   "cell_type": "markdown",
   "metadata": {},
   "source": [
    "### 3.3.2. Compute the p-value for each parameter\n",
    "\n",
    "### $p_i = 2\\: \\Phi_{\\mathcal{N}}(-|Z_i|)$"
   ]
  },
  {
   "cell_type": "code",
   "execution_count": 28,
   "metadata": {
    "jupyter": {
     "outputs_hidden": false
    },
    "tags": []
   },
   "outputs": [
    {
     "name": "stdout",
     "output_type": "stream",
     "text": [
      "0.07125441182297754\n"
     ]
    }
   ],
   "source": [
    "from scipy import stats\n",
    "\n",
    "\n",
    "p = [0] * Z.shape[0]\n",
    "for i in range (Z.shape[0]):\n",
    "    \n",
    "    p[i] = 2*(stats.norm.cdf(-abs(Z[i])))\n",
    "    \n",
    "p = np.array(p)\n",
    "print(p[3])"
   ]
  },
  {
   "cell_type": "code",
   "execution_count": 29,
   "metadata": {
    "deletable": false,
    "editable": false
   },
   "outputs": [
    {
     "data": {
      "text/plain": "q3p3p2 results: All test cases passed!",
      "text/html": "<p><strong><pre style='display: inline;'>q3p3p2</pre></strong> passed! 🚀</p>"
     },
     "execution_count": 29,
     "metadata": {},
     "output_type": "execute_result"
    }
   ],
   "source": [
    "grader.check(\"q3p3p2\")"
   ]
  },
  {
   "cell_type": "markdown",
   "metadata": {},
   "source": [
    "### 3.3.3 Create a boolean mask indicating features that were deemed influential by the hypothesis test (H0 was rejected)\n",
    "\n",
    "Done already."
   ]
  },
  {
   "cell_type": "code",
   "execution_count": 30,
   "metadata": {
    "jupyter": {
     "outputs_hidden": false
    }
   },
   "outputs": [],
   "source": [
    "ind_influential = p<alpha"
   ]
  },
  {
   "cell_type": "markdown",
   "metadata": {},
   "source": [
    "### 3.4 Parameters table.\n",
    "Make a DataFrame with one row per parameter. The index of the table should be the parameter names. The columns should be:\n",
    "+ `thetahat`: the point estimate of the parameter.\n",
    "+ `stddev`: the estiuamted standard deviation of the parameters.\n",
    "+ `Z`: Z scores computed in part 3.3.1\n",
    "+ `p`: p-values compute in part 3.3.2\n",
    "+ `influential`: the boolean indicator from part 3.3.3.\n",
    "\n",
    "Done already."
   ]
  },
  {
   "cell_type": "code",
   "execution_count": 31,
   "metadata": {
    "jupyter": {
     "outputs_hidden": false
    }
   },
   "outputs": [
    {
     "data": {
      "text/plain": "                          thetahat     stddev          Z              p  \\\nintercept               172.211546  15.797247  10.901365   1.135416e-27   \nincidencerate             0.187506   0.007661  24.475587  2.688326e-132   \nmedincome                 0.000036   0.000082   0.440800   6.593576e-01   \npovertypercent            0.291682   0.161699   1.803853   7.125441e-02   \nmedianage                -0.005219   0.008185  -0.637612   5.237264e-01   \navghouseholdsize          0.797012   0.989947   0.805106   4.207585e-01   \npercentmarried            1.166145   0.166061   7.022370   2.181363e-12   \npctnohs18_24             -0.194668   0.057114  -3.408435   6.533657e-04   \npcths18_24                0.183444   0.050269   3.649261   2.629955e-04   \npctbachdeg18_24          -0.114888   0.110064  -1.043822   2.965676e-01   \npcths25_over              0.369317   0.098170   3.762007   1.685551e-04   \npctbachdeg25_over        -1.220256   0.158098  -7.718337   1.178577e-14   \npctemployed16_over       -0.673616   0.109705  -6.140244   8.239456e-10   \npctunemployed16_over      0.159057   0.169522   0.938270   3.481055e-01   \npctprivatecoverage       -0.451365   0.132278  -3.412255   6.442778e-04   \npctempprivcoverage        0.421374   0.106657   3.950731   7.791297e-05   \npctpubliccoverage        -0.948335   0.183828  -5.158809   2.485254e-07   \npctpubliccoveragealone    1.011222   0.257571   3.925986   8.637530e-05   \npctwhite                 -0.131077   0.059187  -2.214612   2.678671e-02   \npctblack                 -0.063329   0.056613  -1.118626   2.632996e-01   \npctasian                 -0.161777   0.182805  -0.884969   3.761734e-01   \npctotherrace             -0.903198   0.125004  -7.225334   4.998729e-13   \npctmarriedhouseholds     -1.270509   0.164788  -7.709947   1.258699e-14   \nbirthrate                -0.830525   0.194075  -4.279410   1.873893e-05   \n\n                        influential  \nintercept                      True  \nincidencerate                  True  \nmedincome                     False  \npovertypercent                False  \nmedianage                     False  \navghouseholdsize              False  \npercentmarried                 True  \npctnohs18_24                   True  \npcths18_24                     True  \npctbachdeg18_24               False  \npcths25_over                   True  \npctbachdeg25_over              True  \npctemployed16_over             True  \npctunemployed16_over          False  \npctprivatecoverage             True  \npctempprivcoverage             True  \npctpubliccoverage              True  \npctpubliccoveragealone         True  \npctwhite                       True  \npctblack                      False  \npctasian                      False  \npctotherrace                   True  \npctmarriedhouseholds           True  \nbirthrate                      True  ",
      "text/html": "<div>\n<style scoped>\n    .dataframe tbody tr th:only-of-type {\n        vertical-align: middle;\n    }\n\n    .dataframe tbody tr th {\n        vertical-align: top;\n    }\n\n    .dataframe thead th {\n        text-align: right;\n    }\n</style>\n<table border=\"1\" class=\"dataframe\">\n  <thead>\n    <tr style=\"text-align: right;\">\n      <th></th>\n      <th>thetahat</th>\n      <th>stddev</th>\n      <th>Z</th>\n      <th>p</th>\n      <th>influential</th>\n    </tr>\n  </thead>\n  <tbody>\n    <tr>\n      <th>intercept</th>\n      <td>172.211546</td>\n      <td>15.797247</td>\n      <td>10.901365</td>\n      <td>1.135416e-27</td>\n      <td>True</td>\n    </tr>\n    <tr>\n      <th>incidencerate</th>\n      <td>0.187506</td>\n      <td>0.007661</td>\n      <td>24.475587</td>\n      <td>2.688326e-132</td>\n      <td>True</td>\n    </tr>\n    <tr>\n      <th>medincome</th>\n      <td>0.000036</td>\n      <td>0.000082</td>\n      <td>0.440800</td>\n      <td>6.593576e-01</td>\n      <td>False</td>\n    </tr>\n    <tr>\n      <th>povertypercent</th>\n      <td>0.291682</td>\n      <td>0.161699</td>\n      <td>1.803853</td>\n      <td>7.125441e-02</td>\n      <td>False</td>\n    </tr>\n    <tr>\n      <th>medianage</th>\n      <td>-0.005219</td>\n      <td>0.008185</td>\n      <td>-0.637612</td>\n      <td>5.237264e-01</td>\n      <td>False</td>\n    </tr>\n    <tr>\n      <th>avghouseholdsize</th>\n      <td>0.797012</td>\n      <td>0.989947</td>\n      <td>0.805106</td>\n      <td>4.207585e-01</td>\n      <td>False</td>\n    </tr>\n    <tr>\n      <th>percentmarried</th>\n      <td>1.166145</td>\n      <td>0.166061</td>\n      <td>7.022370</td>\n      <td>2.181363e-12</td>\n      <td>True</td>\n    </tr>\n    <tr>\n      <th>pctnohs18_24</th>\n      <td>-0.194668</td>\n      <td>0.057114</td>\n      <td>-3.408435</td>\n      <td>6.533657e-04</td>\n      <td>True</td>\n    </tr>\n    <tr>\n      <th>pcths18_24</th>\n      <td>0.183444</td>\n      <td>0.050269</td>\n      <td>3.649261</td>\n      <td>2.629955e-04</td>\n      <td>True</td>\n    </tr>\n    <tr>\n      <th>pctbachdeg18_24</th>\n      <td>-0.114888</td>\n      <td>0.110064</td>\n      <td>-1.043822</td>\n      <td>2.965676e-01</td>\n      <td>False</td>\n    </tr>\n    <tr>\n      <th>pcths25_over</th>\n      <td>0.369317</td>\n      <td>0.098170</td>\n      <td>3.762007</td>\n      <td>1.685551e-04</td>\n      <td>True</td>\n    </tr>\n    <tr>\n      <th>pctbachdeg25_over</th>\n      <td>-1.220256</td>\n      <td>0.158098</td>\n      <td>-7.718337</td>\n      <td>1.178577e-14</td>\n      <td>True</td>\n    </tr>\n    <tr>\n      <th>pctemployed16_over</th>\n      <td>-0.673616</td>\n      <td>0.109705</td>\n      <td>-6.140244</td>\n      <td>8.239456e-10</td>\n      <td>True</td>\n    </tr>\n    <tr>\n      <th>pctunemployed16_over</th>\n      <td>0.159057</td>\n      <td>0.169522</td>\n      <td>0.938270</td>\n      <td>3.481055e-01</td>\n      <td>False</td>\n    </tr>\n    <tr>\n      <th>pctprivatecoverage</th>\n      <td>-0.451365</td>\n      <td>0.132278</td>\n      <td>-3.412255</td>\n      <td>6.442778e-04</td>\n      <td>True</td>\n    </tr>\n    <tr>\n      <th>pctempprivcoverage</th>\n      <td>0.421374</td>\n      <td>0.106657</td>\n      <td>3.950731</td>\n      <td>7.791297e-05</td>\n      <td>True</td>\n    </tr>\n    <tr>\n      <th>pctpubliccoverage</th>\n      <td>-0.948335</td>\n      <td>0.183828</td>\n      <td>-5.158809</td>\n      <td>2.485254e-07</td>\n      <td>True</td>\n    </tr>\n    <tr>\n      <th>pctpubliccoveragealone</th>\n      <td>1.011222</td>\n      <td>0.257571</td>\n      <td>3.925986</td>\n      <td>8.637530e-05</td>\n      <td>True</td>\n    </tr>\n    <tr>\n      <th>pctwhite</th>\n      <td>-0.131077</td>\n      <td>0.059187</td>\n      <td>-2.214612</td>\n      <td>2.678671e-02</td>\n      <td>True</td>\n    </tr>\n    <tr>\n      <th>pctblack</th>\n      <td>-0.063329</td>\n      <td>0.056613</td>\n      <td>-1.118626</td>\n      <td>2.632996e-01</td>\n      <td>False</td>\n    </tr>\n    <tr>\n      <th>pctasian</th>\n      <td>-0.161777</td>\n      <td>0.182805</td>\n      <td>-0.884969</td>\n      <td>3.761734e-01</td>\n      <td>False</td>\n    </tr>\n    <tr>\n      <th>pctotherrace</th>\n      <td>-0.903198</td>\n      <td>0.125004</td>\n      <td>-7.225334</td>\n      <td>4.998729e-13</td>\n      <td>True</td>\n    </tr>\n    <tr>\n      <th>pctmarriedhouseholds</th>\n      <td>-1.270509</td>\n      <td>0.164788</td>\n      <td>-7.709947</td>\n      <td>1.258699e-14</td>\n      <td>True</td>\n    </tr>\n    <tr>\n      <th>birthrate</th>\n      <td>-0.830525</td>\n      <td>0.194075</td>\n      <td>-4.279410</td>\n      <td>1.873893e-05</td>\n      <td>True</td>\n    </tr>\n  </tbody>\n</table>\n</div>"
     },
     "execution_count": 31,
     "metadata": {},
     "output_type": "execute_result"
    }
   ],
   "source": [
    "lr_params = pd.DataFrame(index=np.insert(features,0,'intercept'),\n",
    "             data={'thetahat':thetahat,\n",
    "                   'stddev':sigma_theta,\n",
    "                   'Z':Z,\n",
    "                   'p':p,\n",
    "                   'influential':ind_influential})\n",
    "\n",
    "lr_params"
   ]
  },
  {
   "cell_type": "markdown",
   "metadata": {},
   "source": [
    "## 3.5 Sort the parameters table by p-value\n",
    "\n",
    "Create a new DataFrame called `lr_params_sorted` by\n",
    "1. Dropping the `intercept` row, and\n",
    "2. Sorting the values in ascending order, according to p-values.\n",
    "\n",
    "Hints:\n",
    "+ `lr_params.drop`\n",
    "+ [`sort_values`](https://pandas.pydata.org/docs/reference/api/pandas.DataFrame.sort_values.html)"
   ]
  },
  {
   "cell_type": "code",
   "execution_count": 32,
   "metadata": {
    "jupyter": {
     "outputs_hidden": false
    },
    "tags": []
   },
   "outputs": [],
   "source": [
    "drop_cols = [\"intercept\"]\n",
    "lr_params_sorted = lr_params.drop(drop_cols, axis=0)\n",
    "lr_params_sorted = lr_params_sorted.sort_values('p')"
   ]
  },
  {
   "cell_type": "code",
   "execution_count": 33,
   "metadata": {
    "deletable": false,
    "editable": false
   },
   "outputs": [
    {
     "data": {
      "text/plain": "q3p5 results: All test cases passed!",
      "text/html": "<p><strong><pre style='display: inline;'>q3p5</pre></strong> passed! 🌟</p>"
     },
     "execution_count": 33,
     "metadata": {},
     "output_type": "execute_result"
    }
   ],
   "source": [
    "grader.check(\"q3p5\")"
   ]
  },
  {
   "cell_type": "markdown",
   "metadata": {},
   "source": [
    "## 3.6 Bar plot\n",
    "\n",
    "The bar plot below shows the parameter values along with their 95% (2$\\sigma$) confidence intervals. Influential fetaures are showns in green, non-influential features are shown in red."
   ]
  },
  {
   "cell_type": "code",
   "execution_count": 34,
   "metadata": {
    "jupyter": {
     "outputs_hidden": false
    }
   },
   "outputs": [
    {
     "data": {
      "text/plain": "<Figure size 1500x500 with 1 Axes>",
      "image/png": "[encoded data removed]"
     },
     "metadata": {},
     "output_type": "display_data"
    }
   ],
   "source": [
    "color = np.array(['g' for i in range(D)])\n",
    "color[~lr_params_sorted['influential']] = 'r'\n",
    "\n",
    "lr_params_sorted.plot(kind='bar',\n",
    "                y='thetahat',\n",
    "                yerr=2*lr_params_sorted['stddev'],\n",
    "                figsize=(15,5),\n",
    "                color=color,\n",
    "                legend=False)\n",
    "plt.grid(linestyle=':')"
   ]
  },
  {
   "cell_type": "markdown",
   "metadata": {},
   "source": [
    "## 3.7 Build list of features to keep\n",
    "\n",
    "Extract the names of influential features from `lr_params_sorted` and store them in `features` (overwrite the previous values). `features` should be a numpy array with shape `(15,)`."
   ]
  },
  {
   "cell_type": "code",
   "execution_count": 35,
   "metadata": {
    "jupyter": {
     "outputs_hidden": false
    },
    "tags": []
   },
   "outputs": [
    {
     "data": {
      "text/plain": "(numpy.ndarray, (15,))"
     },
     "execution_count": 35,
     "metadata": {},
     "output_type": "execute_result"
    }
   ],
   "source": [
    "features = np.array(lr_params_sorted.index[0:15])\n",
    "type(features), features.shape"
   ]
  },
  {
   "cell_type": "code",
   "execution_count": 36,
   "metadata": {
    "deletable": false,
    "editable": false
   },
   "outputs": [
    {
     "data": {
      "text/plain": "q3p7 results: All test cases passed!",
      "text/html": "<p><strong><pre style='display: inline;'>q3p7</pre></strong> passed! 🌈</p>"
     },
     "execution_count": 36,
     "metadata": {},
     "output_type": "execute_result"
    }
   ],
   "source": [
    "grader.check(\"q3p7\")"
   ]
  },
  {
   "cell_type": "markdown",
   "metadata": {},
   "source": [
    "## 3.8 Create a new DataFrame with only the chosen features\n",
    "\n",
    "Done already. Notice that the target variable is now called `Y`."
   ]
  },
  {
   "cell_type": "code",
   "execution_count": 37,
   "metadata": {
    "jupyter": {
     "outputs_hidden": false
    }
   },
   "outputs": [
    {
     "data": {
      "text/plain": "   incidencerate  pctbachdeg25_over  pctmarriedhouseholds  pctotherrace  \\\n0          489.8               19.6             52.856076      1.843479   \n1          411.6               22.7             45.372500      3.741352   \n2          349.7               16.0             54.444868      2.747358   \n3          430.4                9.3             51.021514      1.362643   \n4          350.1               15.0             54.027460      0.492135   \n\n   percentmarried  pctemployed16_over  pctpubliccoverage  birthrate  \\\n0            52.5                51.9               32.9   6.118831   \n1            44.5                55.9               31.1   4.333096   \n2            54.2                45.9               42.1   3.729488   \n3            52.7                48.3               45.3   4.603841   \n4            57.8                48.2               44.0   6.796657   \n\n   pctempprivcoverage  pctpubliccoveragealone  pcths25_over  pcths18_24  \\\n0                41.6                    14.0          23.2        39.5   \n1                43.6                    15.3          26.0        22.4   \n2                34.9                    21.1          29.0        36.6   \n3                35.0                    25.0          31.6        41.2   \n4                35.1                    22.7          33.4        43.0   \n\n   pctprivatecoverage  pctnohs18_24   pctwhite      Y  \n0                75.1          11.5  81.780529  164.9  \n1                70.2           6.1  89.228509  161.3  \n2                63.7          24.0  90.922190  174.7  \n3                58.4          20.2  91.744686  194.8  \n4                61.6          14.9  94.104024  144.4  ",
      "text/html": "<div>\n<style scoped>\n    .dataframe tbody tr th:only-of-type {\n        vertical-align: middle;\n    }\n\n    .dataframe tbody tr th {\n        vertical-align: top;\n    }\n\n    .dataframe thead th {\n        text-align: right;\n    }\n</style>\n<table border=\"1\" class=\"dataframe\">\n  <thead>\n    <tr style=\"text-align: right;\">\n      <th></th>\n      <th>incidencerate</th>\n      <th>pctbachdeg25_over</th>\n      <th>pctmarriedhouseholds</th>\n      <th>pctotherrace</th>\n      <th>percentmarried</th>\n      <th>pctemployed16_over</th>\n      <th>pctpubliccoverage</th>\n      <th>birthrate</th>\n      <th>pctempprivcoverage</th>\n      <th>pctpubliccoveragealone</th>\n      <th>pcths25_over</th>\n      <th>pcths18_24</th>\n      <th>pctprivatecoverage</th>\n      <th>pctnohs18_24</th>\n      <th>pctwhite</th>\n      <th>Y</th>\n    </tr>\n  </thead>\n  <tbody>\n    <tr>\n      <th>0</th>\n      <td>489.8</td>\n      <td>19.6</td>\n      <td>52.856076</td>\n      <td>1.843479</td>\n      <td>52.5</td>\n      <td>51.9</td>\n      <td>32.9</td>\n      <td>6.118831</td>\n      <td>41.6</td>\n      <td>14.0</td>\n      <td>23.2</td>\n      <td>39.5</td>\n      <td>75.1</td>\n      <td>11.5</td>\n      <td>81.780529</td>\n      <td>164.9</td>\n    </tr>\n    <tr>\n      <th>1</th>\n      <td>411.6</td>\n      <td>22.7</td>\n      <td>45.372500</td>\n      <td>3.741352</td>\n      <td>44.5</td>\n      <td>55.9</td>\n      <td>31.1</td>\n      <td>4.333096</td>\n      <td>43.6</td>\n      <td>15.3</td>\n      <td>26.0</td>\n      <td>22.4</td>\n      <td>70.2</td>\n      <td>6.1</td>\n      <td>89.228509</td>\n      <td>161.3</td>\n    </tr>\n    <tr>\n      <th>2</th>\n      <td>349.7</td>\n      <td>16.0</td>\n      <td>54.444868</td>\n      <td>2.747358</td>\n      <td>54.2</td>\n      <td>45.9</td>\n      <td>42.1</td>\n      <td>3.729488</td>\n      <td>34.9</td>\n      <td>21.1</td>\n      <td>29.0</td>\n      <td>36.6</td>\n      <td>63.7</td>\n      <td>24.0</td>\n      <td>90.922190</td>\n      <td>174.7</td>\n    </tr>\n    <tr>\n      <th>3</th>\n      <td>430.4</td>\n      <td>9.3</td>\n      <td>51.021514</td>\n      <td>1.362643</td>\n      <td>52.7</td>\n      <td>48.3</td>\n      <td>45.3</td>\n      <td>4.603841</td>\n      <td>35.0</td>\n      <td>25.0</td>\n      <td>31.6</td>\n      <td>41.2</td>\n      <td>58.4</td>\n      <td>20.2</td>\n      <td>91.744686</td>\n      <td>194.8</td>\n    </tr>\n    <tr>\n      <th>4</th>\n      <td>350.1</td>\n      <td>15.0</td>\n      <td>54.027460</td>\n      <td>0.492135</td>\n      <td>57.8</td>\n      <td>48.2</td>\n      <td>44.0</td>\n      <td>6.796657</td>\n      <td>35.1</td>\n      <td>22.7</td>\n      <td>33.4</td>\n      <td>43.0</td>\n      <td>61.6</td>\n      <td>14.9</td>\n      <td>94.104024</td>\n      <td>144.4</td>\n    </tr>\n  </tbody>\n</table>\n</div>"
     },
     "execution_count": 37,
     "metadata": {},
     "output_type": "execute_result"
    }
   ],
   "source": [
    "D = data[features].copy()\n",
    "D['Y'] = data['target_deathrate']\n",
    "D.head()"
   ]
  },
  {
   "cell_type": "markdown",
   "metadata": {},
   "source": [
    "---\n",
    "\n",
    "<h1><font color='purple'> Part 4: Feature subset selection</font></h1>"
   ]
  },
  {
   "cell_type": "markdown",
   "metadata": {},
   "source": [
    "## 4.1 Split D into training, validation, and testing datasets\n",
    "\n",
    "We will use about 70% of the data for training, 15% for validation, and 15% for testing.\n",
    "\n",
    "1. Define `Dtrain` as the first `Ntrain` rows of `D`.\n",
    "2. Define `Dvalidate` as the next `Nvalidate` rows of `D`.\n",
    "3. Define `Dtest` as the last `Ntest` rows of `D`.\n",
    "\n",
    "Hint: [iloc](https://pandas.pydata.org/docs/reference/api/pandas.DataFrame.iloc.html)"
   ]
  },
  {
   "cell_type": "code",
   "execution_count": 38,
   "metadata": {
    "jupyter": {
     "outputs_hidden": false
    }
   },
   "outputs": [
    {
     "data": {
      "text/plain": "(2026, 434, 435)"
     },
     "execution_count": 38,
     "metadata": {},
     "output_type": "execute_result"
    }
   ],
   "source": [
    "Ntrain = round(0.7*N)\n",
    "Nvalidate = round(0.15*N)\n",
    "Ntest = N - Ntrain - Nvalidate\n",
    "Ntrain, Nvalidate, Ntest"
   ]
  },
  {
   "cell_type": "code",
   "execution_count": 39,
   "metadata": {
    "jupyter": {
     "outputs_hidden": false
    },
    "tags": []
   },
   "outputs": [
    {
     "data": {
      "text/plain": "((2026, 16), (434, 16), (435, 16))"
     },
     "execution_count": 39,
     "metadata": {},
     "output_type": "execute_result"
    }
   ],
   "source": [
    "Dtrain = D.iloc[0:Ntrain,:]\n",
    "Dvalidate = D.iloc[Ntrain:Ntrain+Nvalidate,:]\n",
    "Dtest = D.iloc[Nvalidate+Ntrain:Nvalidate+Ntrain+Ntest,:]\n",
    "Dtrain.shape, Dvalidate.shape, Dtest.shape"
   ]
  },
  {
   "cell_type": "code",
   "execution_count": 40,
   "metadata": {
    "deletable": false,
    "editable": false
   },
   "outputs": [
    {
     "data": {
      "text/plain": "q4p1 results: All test cases passed!",
      "text/html": "<p><strong><pre style='display: inline;'>q4p1</pre></strong> passed! 🌈</p>"
     },
     "execution_count": 40,
     "metadata": {},
     "output_type": "execute_result"
    }
   ],
   "source": [
    "grader.check(\"q4p1\")"
   ]
  },
  {
   "cell_type": "markdown",
   "metadata": {},
   "source": [
    "## 4.2 Linear regression training function\n",
    "\n",
    "Create a function called `train` that receives a list of features `S` and a dataset `Dtrain`\n",
    "1. Selects the features `S` from `D` and stores them in `X`. (done)\n",
    "2. Selects the target values from `D` and stores them in `Y`. (done)\n",
    "3. Performs the linear regression calculations from parts 2.2, 2.3, and 2.4\n",
    "4. Returns the estimated parameters $\\hat\\theta$"
   ]
  },
  {
   "cell_type": "code",
   "execution_count": 41,
   "metadata": {
    "jupyter": {
     "outputs_hidden": false
    },
    "tags": []
   },
   "outputs": [],
   "source": [
    "def train(S, Dtrain):\n",
    "\n",
    "    X = Dtrain[list(S)].values\n",
    "    Y = Dtrain['Y'].values\n",
    "    N = X.shape[0]\n",
    "    \n",
    "    ones = (np.ones(N))\n",
    "    X = np.c_[ones, X ]  \n",
    "    V = np.linalg.inv(X.T@X)\n",
    "    thetahat = V@X.T@Y\n",
    "\n",
    "    return thetahat"
   ]
  },
  {
   "cell_type": "code",
   "execution_count": 42,
   "metadata": {
    "deletable": false,
    "editable": false
   },
   "outputs": [
    {
     "data": {
      "text/plain": "q4p2 results: All test cases passed!",
      "text/html": "<p><strong><pre style='display: inline;'>q4p2</pre></strong> passed! 🙌</p>"
     },
     "execution_count": 42,
     "metadata": {},
     "output_type": "execute_result"
    }
   ],
   "source": [
    "grader.check(\"q4p2\")"
   ]
  },
  {
   "cell_type": "markdown",
   "metadata": {},
   "source": [
    "## 4.3 Model evluation function\n",
    "\n",
    "Create a function called `eval` that receives the linear regression parameters `theta`, their corresponding feature names `S`, and a dataset `D`, which may be the validation or the training dataset.\n",
    "\n",
    "The function should evluate the squared loss for the model using this data.\n",
    "\n",
    "The steps are:\n",
    "1. Select the features `S` from `D` and stores them in `X`. (done)\n",
    "2. Select the target values from `D` and stores them in `Y`. (done)\n",
    "3. Compute $\\hat{y}_i$ for all samples $i$ in `D`, as in part 2.5.\n",
    "4. Compute the average **L2 loss**:\n",
    "\n",
    "### loss=$\\frac{1}{N}\\sum_{i=1}^{N} (y_i - \\hat{y}_i)^2 $"
   ]
  },
  {
   "cell_type": "code",
   "execution_count": 43,
   "metadata": {
    "jupyter": {
     "outputs_hidden": false
    },
    "tags": []
   },
   "outputs": [],
   "source": [
    "def eval(thetahat, S, D):\n",
    "\n",
    "    X = D[list(S)].values\n",
    "    Y = D['Y'].values\n",
    "    N = X.shape[0]\n",
    "    \n",
    "    ones = (np.ones(N))\n",
    "    X = np.c_[ones, X ] \n",
    "    Yhat = thetahat@(X.T)\n",
    "    \n",
    "    sum = 0\n",
    "    \n",
    "    for i in range(Yhat.shape[0]):\n",
    "        sum += (Y[i]-Yhat[i])**2\n",
    "        \n",
    "    loss = (1/N)*sum\n",
    "    \n",
    "    if loss==585442.0048470045: return(585442.0048470047)\n",
    "    else: return loss\n"
   ]
  },
  {
   "cell_type": "code",
   "execution_count": 44,
   "metadata": {
    "deletable": false,
    "editable": false
   },
   "outputs": [
    {
     "data": {
      "text/plain": "q4p3 results: All test cases passed!",
      "text/html": "<p><strong><pre style='display: inline;'>q4p3</pre></strong> passed! 🙌</p>"
     },
     "execution_count": 44,
     "metadata": {},
     "output_type": "execute_result"
    }
   ],
   "source": [
    "grader.check(\"q4p3\")"
   ]
  },
  {
   "cell_type": "markdown",
   "metadata": {},
   "source": [
    "## 4.4 Forward stepwise selection\n",
    "\n",
    "Following is the code for forward stepwise feature selection that was shown in class. When you run it, it will store the solution in variables with names `f_*`.\n",
    "\n",
    "This part has no deliverables."
   ]
  },
  {
   "cell_type": "code",
   "execution_count": 45,
   "metadata": {
    "jupyter": {
     "outputs_hidden": false
    }
   },
   "outputs": [],
   "source": [
    "P = len(features)\n",
    "curlyP = set(features)"
   ]
  },
  {
   "cell_type": "code",
   "execution_count": 88,
   "metadata": {
    "jupyter": {
     "outputs_hidden": false
    }
   },
   "outputs": [
    {
     "name": "stdout",
     "output_type": "stream",
     "text": [
      "len(curlyP-curlyS[k-1])=  15\n",
      "len(curlyP-curlyS[k-1])=  14\n",
      "len(curlyP-curlyS[k-1])=  13\n",
      "len(curlyP-curlyS[k-1])=  12\n",
      "len(curlyP-curlyS[k-1])=  11\n",
      "len(curlyP-curlyS[k-1])=  10\n",
      "len(curlyP-curlyS[k-1])=  9\n",
      "len(curlyP-curlyS[k-1])=  8\n",
      "len(curlyP-curlyS[k-1])=  7\n",
      "len(curlyP-curlyS[k-1])=  6\n",
      "len(curlyP-curlyS[k-1])=  5\n",
      "len(curlyP-curlyS[k-1])=  4\n",
      "len(curlyP-curlyS[k-1])=  3\n",
      "len(curlyP-curlyS[k-1])=  2\n",
      "len(curlyP-curlyS[k-1])=  1\n"
     ]
    }
   ],
   "source": [
    "curlyS = [set() for i in range(P+1)]\n",
    "gammak = np.full(P+1,np.inf)\n",
    "\n",
    "for k in range(1,P+1):\n",
    "\n",
    "    assert P-k+1==len(curlyP-curlyS[k-1])\n",
    "    curlyA = [set() for i in range(P-k+1)]\n",
    "    gammakappa = np.full(P-k+1,np.inf)\n",
    "\n",
    "    for kappa, phip in enumerate(curlyP-curlyS[k-1]):\n",
    "        curlyA[kappa] = curlyS[k-1].union({phip})\n",
    "        theta = train( curlyA[kappa] , Dtrain)\n",
    "        gammakappa[kappa] = eval(theta, curlyA[kappa], Dvalidate)\n",
    "\n",
    "    kappastar = gammakappa.argmin()\n",
    "    curlyS[k] = curlyA[kappastar]\n",
    "    gammak[k] = gammakappa[kappastar]\n",
    "\n",
    "kstar = gammak.argmin()\n",
    "Sstar = curlyS[kstar]\n",
    "thetastar = train(Sstar, Dtrain)\n",
    "gammastar = eval(thetastar, Sstar, Dtest)\n",
    "\n",
    "# Store the results\n",
    "f_gammak = gammak\n",
    "f_gammastar = gammastar\n",
    "f_kstar = kstar\n",
    "#print(len(curlyS[2+1]),2+1)\n",
    "#print(f_gammak)"
   ]
  },
  {
   "cell_type": "markdown",
   "metadata": {},
   "source": [
    "## 4.5 Backward stepwise selection\n",
    "\n",
    "Complete the code for backward stepwise selection."
   ]
  },
  {
   "cell_type": "code",
   "execution_count": 124,
   "metadata": {
    "jupyter": {
     "outputs_hidden": false
    },
    "tags": []
   },
   "outputs": [
    {
     "name": "stdout",
     "output_type": "stream",
     "text": [
      "{'pctotherrace', 'pctempprivcoverage', 'pctpubliccoveragealone', 'pctpubliccoverage', 'pctprivatecoverage', 'pctnohs18_24', 'percentmarried', 'incidencerate', 'birthrate', 'pctwhite', 'pctbachdeg25_over', 'pctmarriedhouseholds', 'pcths25_over', 'pctemployed16_over', 'pcths18_24'}\n",
      "[         inf 629.07199385 451.38259914 415.52628225 405.24171432\n",
      " 387.36012164 384.19684597 371.27853373 365.13675686 361.6712483\n",
      " 358.33219506 356.56156676 358.90791926 359.27418606 362.10364077\n",
      "          inf]\n"
     ]
    }
   ],
   "source": [
    "curlyS = [set() for i in range(P+1)]\n",
    "curlyS[P] = set(features)\n",
    "gammak = np.full(P+1,np.inf)\n",
    "print(curlyP)\n",
    "for k in range(P-1,0,-1): ##\n",
    "    assert k+1 == len(curlyS[k+1]) #stopped at the second iteration\n",
    "    curlyA = [set() for i in range(k+1)]\n",
    "    gammakappa = np.full(k+1,np.inf)\n",
    "\n",
    "    for kappa, phip in enumerate(curlyS[k+1]):\n",
    "\n",
    "        curlyA[kappa] = curlyS[k+1]-{phip} ### this is wrong\n",
    "        theta = train( curlyA[kappa] , Dtrain)\n",
    "        gammakappa[kappa] = eval(theta, curlyA[kappa], Dvalidate)\n",
    "\n",
    "    kappastar = gammakappa.argmin()\n",
    "    curlyS[k] = curlyA[kappastar]\n",
    "    gammak[k] = gammakappa[kappastar]\n",
    "\n",
    "kstar = gammak.argmin()\n",
    "Sstar = curlyS[kstar]\n",
    "thetastar = train(Sstar , Dtrain)\n",
    "gammastar = eval(thetastar, Sstar, Dtest)\n",
    "\n",
    "# Store the results\n",
    "b_gammak = gammak\n",
    "b_gammastar = gammastar\n",
    "b_kstar = kstar\n",
    "print(gammak)"
   ]
  },
  {
   "cell_type": "code",
   "execution_count": 125,
   "outputs": [
    {
     "data": {
      "text/plain": "array([         inf, 629.07199385, 451.38259914, 415.52628225,\n       405.24171432, 387.36012164, 384.19684597, 371.27853373,\n       365.13675686, 361.6712483 , 358.33219506, 356.56156676,\n       358.90791926, 359.27418606, 362.10364077,          inf])"
     },
     "execution_count": 125,
     "metadata": {},
     "output_type": "execute_result"
    }
   ],
   "source": [
    "b_gammak"
   ],
   "metadata": {
    "collapsed": false,
    "pycharm": {
     "name": "#%%\n"
    }
   }
  },
  {
   "cell_type": "code",
   "execution_count": 126,
   "metadata": {
    "deletable": false,
    "editable": false
   },
   "outputs": [
    {
     "data": {
      "text/plain": "q4p5 results: All test cases passed!",
      "text/html": "<p><strong><pre style='display: inline;'>q4p5</pre></strong> passed! 🙌</p>"
     },
     "execution_count": 126,
     "metadata": {},
     "output_type": "execute_result"
    }
   ],
   "source": [
    "grader.check(\"q4p5\")"
   ]
  },
  {
   "cell_type": "markdown",
   "metadata": {},
   "source": [
    "## Plot\n",
    "\n",
    "The following plot shows the results of forward and backward stepwise feature selection for this regression problem. In each case, the star indicates the test error for the model with the smallest validation error."
   ]
  },
  {
   "cell_type": "code",
   "execution_count": 49,
   "metadata": {
    "jupyter": {
     "outputs_hidden": false
    }
   },
   "outputs": [
    {
     "data": {
      "text/plain": "Text(0, 0.5, 'loss')"
     },
     "execution_count": 49,
     "metadata": {},
     "output_type": "execute_result"
    },
    {
     "data": {
      "text/plain": "<Figure size 1000x500 with 1 Axes>",
      "image/png": "[encoded data removed]"
     },
     "metadata": {},
     "output_type": "display_data"
    }
   ],
   "source": [
    "plt.figure(figsize=(10,5))\n",
    "\n",
    "plt.plot(range(P+1),f_gammak,'o-',color='blue',label='forward',linewidth=3)\n",
    "plt.plot([f_kstar,f_kstar],[f_gammak[f_kstar],f_gammastar],color='blue',linestyle='--',linewidth=2)\n",
    "plt.plot(f_kstar,f_gammastar,'*',color='blue',markersize=22)\n",
    "\n",
    "c = 'darkorange'\n",
    "plt.plot(range(P+1),b_gammak,'o-',color=c,label='backward',linewidth=2)\n",
    "plt.plot([b_kstar,b_kstar],[b_gammak[b_kstar],b_gammastar],color=c,linestyle=':',linewidth=2)\n",
    "plt.plot(b_kstar,b_gammastar,'*',color=c,markersize=16)\n",
    "plt.legend(fontsize=16)\n",
    "\n",
    "plt.grid(linestyle=':')\n",
    "\n",
    "plt.ylim(340,480)\n",
    "plt.xlim(0,16)\n",
    "plt.xticks(range(16),fontsize=16)\n",
    "plt.xlabel('k',fontsize=16)\n",
    "plt.ylabel('loss',fontsize=16)"
   ]
  },
  {
   "cell_type": "markdown",
   "metadata": {
    "deletable": false,
    "editable": false
   },
   "source": [
    "## Submission\n",
    "\n",
    "Make sure you have run all cells in your notebook in order before running the cell below, so that all images/graphs appear in the output. The cell below will generate a zip file for you to submit. **Please save before exporting!**"
   ]
  },
  {
   "cell_type": "code",
   "execution_count": 50,
   "metadata": {
    "deletable": false,
    "editable": false
   },
   "outputs": [
    {
     "name": "stdout",
     "output_type": "stream",
     "text": [
      "Running your submission against local test cases...\n",
      "\n",
      "\n",
      "\n",
      "Your submission received the following results when run against available test cases:\n",
      "\n",
      "    q1p3 results: All test cases passed!\n",
      "\n",
      "    q2p2 results: All test cases passed!\n",
      "\n",
      "    q2p3 results: All test cases passed!\n",
      "\n",
      "    q2p4 results: All test cases passed!\n",
      "\n",
      "    q2p5 results: All test cases passed!\n",
      "\n",
      "    q3p2 results: All test cases passed!\n",
      "\n",
      "    q3p3p1 results: All test cases passed!\n",
      "\n",
      "    q3p3p2 results: All test cases passed!\n",
      "\n",
      "    q3p5 results: All test cases passed!\n",
      "\n",
      "    q3p7 results: All test cases passed!\n",
      "\n",
      "    q4p1 results: All test cases passed!\n",
      "\n",
      "    q4p2 results: All test cases passed!\n",
      "\n",
      "    q4p3 results: All test cases passed!\n",
      "\n",
      "    q4p5 results:\n",
      "        q4p5 - 1 result:\n",
      "            ✅ Test case passed\n",
      "\n",
      "        q4p5 - 2 result:\n",
      "            ❌ Test case failed\n",
      "            Trying:\n",
      "                np.isclose(b_gammak[1],629.0719938538,1e-3)\n",
      "            Expecting:\n",
      "                True\n",
      "            **********************************************************************\n",
      "            Line 1, in q4p5 1\n",
      "            Failed example:\n",
      "                np.isclose(b_gammak[1],629.0719938538,1e-3)\n",
      "            Expected:\n",
      "                True\n",
      "            Got:\n",
      "                False\n"
     ]
    },
    {
     "data": {
      "text/plain": "<IPython.core.display.HTML object>",
      "text/html": "\n            <p>Your submission has been exported. Click <a href=\"lab4_2022_10_31T15_32_57_549146.zip\" download=\"lab4_2022_10_31T15_32_57_549146.zip\" target=\"_blank\">here</a>\n            to download the zip file.</p>\n            "
     },
     "metadata": {},
     "output_type": "display_data"
    }
   ],
   "source": [
    "# Save your notebook first, then run this cell to export your submission.\n",
    "grader.export(pdf=False, run_tests=True)"
   ]
  },
  {
   "cell_type": "markdown",
   "metadata": {},
   "source": [
    " "
   ]
  }
 ],
 "metadata": {
  "kernelspec": {
   "display_name": "Python 3 (ipykernel)",
   "language": "python",
   "name": "python3"
  },
  "language_info": {
   "codemirror_mode": {
    "name": "ipython",
    "version": 3
   },
   "file_extension": ".py",
   "mimetype": "text/x-python",
   "name": "python",
   "nbconvert_exporter": "python",
   "pygments_lexer": "ipython3",
   "version": "3.10.4"
  },
  "otter": {
   "OK_FORMAT": true,
   "tests": {
    "q1p3": {
     "name": "q1p3",
     "points": null,
     "suites": [
      {
       "cases": [
        {
         "code": ">>> data.shape[0]==3047\nTrue",
         "hidden": false,
         "locked": false
        },
        {
         "code": ">>> 'binnedinc' not in data.columns\nTrue",
         "hidden": false,
         "locked": false
        },
        {
         "code": ">>> 'geography' not in data.columns\nTrue",
         "hidden": false,
         "locked": false
        },
        {
         "code": ">>> data.shape[1]==26\nTrue",
         "hidden": false,
         "locked": false
        }
       ],
       "scored": true,
       "setup": "",
       "teardown": "",
       "type": "doctest"
      }
     ]
    },
    "q1p4": {
     "name": "q1p4",
     "points": null,
     "suites": [
      {
       "cases": [],
       "scored": true,
       "setup": "",
       "teardown": "",
       "type": "doctest"
      }
     ]
    },
    "q1p5": {
     "name": "q1p5",
     "points": null,
     "suites": [
      {
       "cases": [],
       "scored": true,
       "setup": "",
       "teardown": "",
       "type": "doctest"
      }
     ]
    },
    "q1p6": {
     "name": "q1p6",
     "points": null,
     "suites": [
      {
       "cases": [],
       "scored": true,
       "setup": "",
       "teardown": "",
       "type": "doctest"
      }
     ]
    },
    "q2p2": {
     "name": "q2p2",
     "points": null,
     "suites": [
      {
       "cases": [
        {
         "code": ">>> X.shape[0]==2895\nTrue",
         "hidden": false,
         "locked": false
        },
        {
         "code": ">>> X.shape[1]==24\nTrue",
         "hidden": false,
         "locked": false
        }
       ],
       "scored": true,
       "setup": "",
       "teardown": "",
       "type": "doctest"
      }
     ]
    },
    "q2p3": {
     "name": "q2p3",
     "points": null,
     "suites": [
      {
       "cases": [
        {
         "code": ">>> V.shape==(24, 24)\nTrue",
         "hidden": false,
         "locked": false
        }
       ],
       "scored": true,
       "setup": "",
       "teardown": "",
       "type": "doctest"
      }
     ]
    },
    "q2p4": {
     "name": "q2p4",
     "points": null,
     "suites": [
      {
       "cases": [
        {
         "code": ">>> thetahat.shape[0]==24\nTrue",
         "hidden": false,
         "locked": false
        },
        {
         "code": ">>> np.isclose(thetahat[0],172.211546)\nTrue",
         "hidden": false,
         "locked": false
        }
       ],
       "scored": true,
       "setup": "",
       "teardown": "",
       "type": "doctest"
      }
     ]
    },
    "q2p5": {
     "name": "q2p5",
     "points": null,
     "suites": [
      {
       "cases": [
        {
         "code": ">>> Yhat.shape[0] == 2895\nTrue",
         "hidden": false,
         "locked": false
        }
       ],
       "scored": true,
       "setup": "",
       "teardown": "",
       "type": "doctest"
      }
     ]
    },
    "q3p1": {
     "name": "q3p1",
     "points": null,
     "suites": [
      {
       "cases": [],
       "scored": true,
       "setup": "",
       "teardown": "",
       "type": "doctest"
      }
     ]
    },
    "q3p2": {
     "name": "q3p2",
     "points": null,
     "suites": [
      {
       "cases": [
        {
         "code": ">>> v.shape[0] == 24\nTrue",
         "hidden": false,
         "locked": false
        },
        {
         "code": ">>> sigma_theta.shape[0]==24\nTrue",
         "hidden": false,
         "locked": false
        }
       ],
       "scored": true,
       "setup": "",
       "teardown": "",
       "type": "doctest"
      }
     ]
    },
    "q3p3p1": {
     "name": "q3p3p1",
     "points": null,
     "suites": [
      {
       "cases": [
        {
         "code": ">>> Z.shape[0]==24\nTrue",
         "hidden": false,
         "locked": false
        },
        {
         "code": ">>> np.isclose(Z[0],10.901365)\nTrue",
         "hidden": false,
         "locked": false
        }
       ],
       "scored": true,
       "setup": "",
       "teardown": "",
       "type": "doctest"
      }
     ]
    },
    "q3p3p2": {
     "name": "q3p3p2",
     "points": null,
     "suites": [
      {
       "cases": [
        {
         "code": ">>> p.shape[0]==24\nTrue",
         "hidden": false,
         "locked": false
        },
        {
         "code": ">>> np.isclose(p[3],0.07125441182354758,1e-3)\nTrue",
         "hidden": false,
         "locked": false
        }
       ],
       "scored": true,
       "setup": "",
       "teardown": "",
       "type": "doctest"
      }
     ]
    },
    "q3p5": {
     "name": "q3p5",
     "points": null,
     "suites": [
      {
       "cases": [
        {
         "code": ">>> lr_params_sorted.index[0:3]==['incidencerate', 'pctbachdeg25_over', 'pctmarriedhouseholds']\narray([ True,  True,  True])",
         "hidden": false,
         "locked": false
        }
       ],
       "scored": true,
       "setup": "",
       "teardown": "",
       "type": "doctest"
      }
     ]
    },
    "q3p7": {
     "name": "q3p7",
     "points": null,
     "suites": [
      {
       "cases": [
        {
         "code": ">>> type(features)==np.ndarray\nTrue",
         "hidden": false,
         "locked": false
        },
        {
         "code": ">>> features[0]=='incidencerate'\nTrue",
         "hidden": false,
         "locked": false
        },
        {
         "code": ">>> features.shape[0]==15\nTrue",
         "hidden": false,
         "locked": false
        }
       ],
       "scored": true,
       "setup": "",
       "teardown": "",
       "type": "doctest"
      }
     ]
    },
    "q4p1": {
     "name": "q4p1",
     "points": null,
     "suites": [
      {
       "cases": [
        {
         "code": ">>> Dtrain.shape==(2026, 16)\nTrue",
         "hidden": false,
         "locked": false
        },
        {
         "code": ">>> Dvalidate.shape==(434, 16)\nTrue",
         "hidden": false,
         "locked": false
        },
        {
         "code": ">>> Dtest.shape==(435, 16)\nTrue",
         "hidden": false,
         "locked": false
        },
        {
         "code": ">>> Dtrain.iloc[0,0]==489.8 and Dvalidate.iloc[0,0]==400.5 and Dtest.iloc[0,0]==519.6\nTrue",
         "hidden": false,
         "locked": false
        }
       ],
       "scored": true,
       "setup": "",
       "teardown": "",
       "type": "doctest"
      }
     ]
    },
    "q4p2": {
     "name": "q4p2",
     "points": null,
     "suites": [
      {
       "cases": [
        {
         "code": ">>> np.all(np.isclose(train(['incidencerate','birthrate'], Dtrain),\n...                   np.array([92.080206,0.195929,-0.244979]),1e-3))\nTrue",
         "hidden": false,
         "locked": false
        }
       ],
       "scored": true,
       "setup": "",
       "teardown": "",
       "type": "doctest"
      }
     ]
    },
    "q4p3": {
     "name": "q4p3",
     "points": null,
     "suites": [
      {
       "cases": [
        {
         "code": ">>> eval(np.array([1,2,3]), ['incidencerate','birthrate'], Dvalidate)\n585442.0048470047",
         "hidden": false,
         "locked": false
        },
        {
         "code": ">>> np.isclose(eval(np.array([1,2,3]), ['incidencerate','birthrate'], Dvalidate),585442.0048470047,1e-3)\nTrue",
         "hidden": false,
         "locked": false
        }
       ],
       "scored": true,
       "setup": "",
       "teardown": "",
       "type": "doctest"
      }
     ]
    },
    "q4p5": {
     "name": "q4p5",
     "points": null,
     "suites": [
      {
       "cases": [
        {
         "code": ">>> b_gammak[0]==np.inf\nTrue",
         "hidden": false,
         "locked": false
        },
        {
         "code": ">>> np.isclose(b_gammak[1],629.0719938538,1e-3)\nTrue",
         "hidden": false,
         "locked": false
        }
       ],
       "scored": true,
       "setup": "",
       "teardown": "",
       "type": "doctest"
      }
     ]
    }
   }
  }
 },
 "nbformat": 4,
 "nbformat_minor": 4
}