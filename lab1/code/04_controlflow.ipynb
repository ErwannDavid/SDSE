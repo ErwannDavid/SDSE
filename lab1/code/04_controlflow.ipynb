{
 "cells": [
  {
   "cell_type": "markdown",
   "id": "7ff80d5d",
   "metadata": {},
   "source": [
    "---\n",
    "# <center><font color=purple>[Control flow](https://docs.python.org/3/tutorial/controlflow.html)</font> </center>\n",
    "\n",
    " <center> if statements and loops </center>\n",
    "\n",
    "---\n",
    "\n",
    "## On the use of whitespace in Python\n",
    "\n",
    "+ Other programming languages (C, C++, Java, Matlab, etc):\n",
    "    + *whitespace* (spaces and tabs) is ignored. \n",
    "    + Blocks of code are demarcated with special symbols (curly brackets in C, C++, Java; 'end' in Matlab, etc.).\n",
    "\n",
    "+ In contrast, Python *indentation levels* to demarcate blocks of code.\n",
    "+ **Consistency** is important.\n",
    "+ Common practice:\n",
    "    + **tab character** or \n",
    "    + **4 white spaces**"
   ]
  },
  {
   "cell_type": "code",
   "execution_count": null,
   "id": "6555b961",
   "metadata": {},
   "outputs": [],
   "source": []
  },
  {
   "cell_type": "markdown",
   "id": "857605ad",
   "metadata": {},
   "source": [
    "---\n",
    "# <center> <font color=darkgreen>[if statements](https://docs.python.org/3/tutorial/controlflow.html#if-statements)</font>  </center>\n",
    "---\n",
    "\n",
    "An *if* statement (or *conditional* statement) determines which of several blocks of code should be executed, depending on the value of a boolean expression. \n",
    "\n",
    "**Syntax**\n",
    "\n",
    "```python\n",
    "if <boolean expression 1>:\n",
    "    <code block 1>\n",
    "elif <boolean expression 2>:\n",
    "    <code block 2>\n",
    "    # ...\n",
    "elif <boolean expression N-1>:\n",
    "    <code block N-1>\n",
    "else:\n",
    "    <code block N>\n",
    "```\n",
    "\n",
    "### Example : Issuing a speeding ticket"
   ]
  },
  {
   "cell_type": "code",
   "execution_count": 1,
   "id": "d265984b",
   "metadata": {},
   "outputs": [
    {
     "name": "stdout",
     "output_type": "stream",
     "text": [
      "You get a small ticket.\n"
     ]
    }
   ],
   "source": [
    "speed = 140\n",
    "license_expired = False\n",
    "speed_limit = 120\n",
    "\n",
    "if speed>speed_limit and license_expired:\n",
    "    print(\"You get a big ticket!\")\n",
    "if speed>speed_limit and not license_expired:\n",
    "    print(\"You get a small ticket.\")\n",
    "elif speed < 0:\n",
    "    print(\"Wrong way!\")\n",
    "else:\n",
    "    print(\"Have a nice day!\")"
   ]
  },
  {
   "cell_type": "markdown",
   "id": "75da265d",
   "metadata": {},
   "source": [
    "**Note**:\n",
    "+ The boolean expressions can include `and`, `or`, and `not`.\n",
    "+ At most one code block will be executed. \n",
    "+ Don't forget the `:`"
   ]
  },
  {
   "cell_type": "markdown",
   "id": "609d1983",
   "metadata": {},
   "source": [
    "---\n",
    "## <center><font color=dark> >> 5-minute challenge << </font></center> \n",
    "---\n",
    "\n",
    "Write code that will print whether you are at work or not depending on the day and time. "
   ]
  },
  {
   "cell_type": "code",
   "execution_count": 2,
   "id": "2aed93eb",
   "metadata": {},
   "outputs": [],
   "source": [
    "workdays = {\"Sunday\",\"Monday\",\"Tuesday\",\"Wednesday\",\"Thursday\"}\n",
    "start_time = 8\n",
    "end_time = 16\n",
    "\n",
    "day = \"Sunday\"\n",
    "time = 12"
   ]
  },
  {
   "cell_type": "markdown",
   "id": "edc51170",
   "metadata": {},
   "source": [
    "---\n",
    "# <center> <font color=darkgreen>while loops</font>  </center>\n",
    "---\n",
    "\n",
    "A **while** loop executes a block of code as long as a boolean expression evaluates to `True`.\n",
    "\n",
    "`while <boolean expression>:\n",
    "    <code block>\n",
    "`\n",
    "\n",
    "**Example**"
   ]
  },
  {
   "cell_type": "code",
   "execution_count": 3,
   "id": "c63f3533",
   "metadata": {},
   "outputs": [
    {
     "name": "stdout",
     "output_type": "stream",
     "text": [
      "1\n",
      "2\n",
      "3\n",
      "4\n",
      "5\n",
      "6\n",
      "7\n",
      "8\n",
      "9\n"
     ]
    }
   ],
   "source": [
    "a=1\n",
    "while a<10:\n",
    "    print(a)\n",
    "    a = a+1"
   ]
  },
  {
   "cell_type": "markdown",
   "id": "999f7db8",
   "metadata": {},
   "source": [
    "---\n",
    "# <center> <font color=darkgreen>[for loops](https://docs.python.org/3/tutorial/controlflow.html#for-statements)</font>  </center>\n",
    "---\n",
    "\n",
    "A **for** loop executes the block of code as many times as there are items in a given iterable (set, list, tuple, string, or dict). A variable is assigned successive values from the iterable. If the iterable is non-sequential (i.e. a set or dict), then the order is not guaranteed. \n",
    "\n",
    "```python\n",
    "for <variable> in <iterable>:\n",
    "    <code block>\n",
    "```\n",
    "\n",
    "### Example : iterate through a list"
   ]
  },
  {
   "cell_type": "code",
   "execution_count": 4,
   "id": "3a545df2",
   "metadata": {},
   "outputs": [
    {
     "name": "stdout",
     "output_type": "stream",
     "text": [
      "5\n",
      "(9+1j)\n",
      "0.1\n"
     ]
    }
   ],
   "source": [
    "alist = ['5',9+1j,0.1]\n",
    "for n in alist:\n",
    "    print(n)"
   ]
  },
  {
   "cell_type": "markdown",
   "id": "149ac566",
   "metadata": {},
   "source": [
    "### Example : iterate through a set"
   ]
  },
  {
   "cell_type": "code",
   "execution_count": 5,
   "id": "15750ea5",
   "metadata": {},
   "outputs": [
    {
     "name": "stdout",
     "output_type": "stream",
     "text": [
      "0.1\n",
      "5\n",
      "(9+1j)\n"
     ]
    }
   ],
   "source": [
    "aset = {'5',9+1j,0.1,0.1,0.1}\n",
    "for n in aset:\n",
    "    print(n)"
   ]
  },
  {
   "cell_type": "markdown",
   "id": "4154983d",
   "metadata": {},
   "source": [
    "**Note** The order is not necessarily preserved."
   ]
  },
  {
   "cell_type": "markdown",
   "id": "3c8a8f77",
   "metadata": {},
   "source": [
    "### Example : iterate through a tuple"
   ]
  },
  {
   "cell_type": "code",
   "execution_count": 6,
   "id": "4bce8f85",
   "metadata": {},
   "outputs": [
    {
     "name": "stdout",
     "output_type": "stream",
     "text": [
      "5\n",
      "(9+1j)\n",
      "0.1\n",
      "0.1\n",
      "0.1\n"
     ]
    }
   ],
   "source": [
    "atuple = ('5',9+1j,0.1,0.1,0.1)\n",
    "for n in atuple:\n",
    "    print(n)"
   ]
  },
  {
   "cell_type": "markdown",
   "id": "1724024f",
   "metadata": {},
   "source": [
    "### Example : iterate through a dict"
   ]
  },
  {
   "cell_type": "code",
   "execution_count": 7,
   "id": "b5282dbb",
   "metadata": {},
   "outputs": [
    {
     "name": "stdout",
     "output_type": "stream",
     "text": [
      "5\n",
      "9\n",
      "0.1\n"
     ]
    },
    {
     "data": {
      "text/plain": [
       "{0: '5', 1: 9, 2: 0.1}"
      ]
     },
     "execution_count": 7,
     "metadata": {},
     "output_type": "execute_result"
    }
   ],
   "source": [
    "adict = {0:'5',1:9,2:0.1}\n",
    "for n in adict.values():\n",
    "    print(n)\n",
    "    \n",
    "adict"
   ]
  },
  {
   "cell_type": "markdown",
   "id": "c68d033b",
   "metadata": {},
   "source": [
    "**Note**. `adict.items()` returns key/value pairs as tuples."
   ]
  },
  {
   "cell_type": "markdown",
   "id": "edb5ef65",
   "metadata": {},
   "source": [
    "# [`break` and `continue`](https://docs.python.org/3/tutorial/controlflow.html#break-and-continue-statements-and-else-clauses-on-loops)\n",
    "\n",
    "Used within loops (both `for` and `while`).\n",
    "+ `break`: exit the for (or while) loop immediately. \n",
    "+ `continue`: ignore the rest of the block and go on to next iteration."
   ]
  },
  {
   "cell_type": "markdown",
   "id": "69de929d",
   "metadata": {},
   "source": [
    "**Example**: It is common to use `while True:` with a `break` statement."
   ]
  },
  {
   "cell_type": "code",
   "execution_count": 8,
   "id": "281d7ca4",
   "metadata": {},
   "outputs": [
    {
     "name": "stdout",
     "output_type": "stream",
     "text": [
      "0.5\n",
      "1.0\n",
      "1.5\n",
      "2.0\n",
      "2.5\n",
      "3.0\n"
     ]
    }
   ],
   "source": [
    "x=0\n",
    "while True:\n",
    "    x = x + 0.5\n",
    "    print(x)\n",
    "    if x**2>=9:\n",
    "        break"
   ]
  },
  {
   "cell_type": "markdown",
   "id": "c6734306",
   "metadata": {},
   "source": [
    "# [range](https://docs.python.org/3/library/functions.html#func-range)\n",
    "It is very common to iterate through a uniformly spaced list of numbers. The `range` function (it is actuatlly a type) is useful for this.\n",
    "\n",
    "**Syntax**\n",
    "`range(start,stop,step)`  (step is optional)\n",
    "\n",
    "## Examples"
   ]
  },
  {
   "cell_type": "code",
   "execution_count": 9,
   "id": "d7bf4604",
   "metadata": {},
   "outputs": [
    {
     "data": {
      "text/plain": [
       "[4, 6, 8]"
      ]
     },
     "execution_count": 9,
     "metadata": {},
     "output_type": "execute_result"
    }
   ],
   "source": [
    "a = range(4,10,2)\n",
    "list(a)"
   ]
  },
  {
   "cell_type": "code",
   "execution_count": 10,
   "id": "1f012323",
   "metadata": {},
   "outputs": [
    {
     "name": "stdout",
     "output_type": "stream",
     "text": [
      "0\n",
      "2\n",
      "4\n",
      "6\n",
      "8\n",
      "10\n",
      "12\n",
      "14\n",
      "16\n",
      "18\n",
      "20\n",
      "22\n",
      "24\n",
      "26\n",
      "28\n",
      "30\n",
      "32\n",
      "34\n",
      "36\n",
      "38\n",
      "40\n",
      "42\n",
      "44\n",
      "46\n",
      "48\n",
      "50\n",
      "52\n",
      "54\n",
      "56\n",
      "58\n",
      "60\n",
      "62\n",
      "64\n",
      "66\n",
      "68\n",
      "70\n",
      "72\n",
      "74\n",
      "76\n",
      "78\n",
      "80\n",
      "82\n",
      "84\n",
      "86\n",
      "88\n",
      "90\n",
      "92\n",
      "94\n",
      "96\n",
      "98\n",
      "100\n",
      "102\n",
      "104\n",
      "106\n",
      "108\n",
      "110\n",
      "112\n",
      "114\n",
      "116\n",
      "118\n",
      "120\n",
      "122\n",
      "124\n",
      "126\n",
      "128\n",
      "130\n",
      "132\n",
      "134\n",
      "136\n",
      "138\n",
      "140\n",
      "142\n",
      "144\n",
      "146\n",
      "148\n",
      "150\n",
      "152\n",
      "154\n",
      "156\n",
      "158\n",
      "160\n",
      "162\n",
      "164\n",
      "166\n",
      "168\n",
      "170\n",
      "172\n",
      "174\n",
      "176\n",
      "178\n",
      "180\n",
      "182\n",
      "184\n",
      "186\n",
      "188\n",
      "190\n",
      "192\n",
      "194\n",
      "196\n",
      "198\n",
      "200\n",
      "202\n",
      "204\n",
      "206\n",
      "208\n",
      "210\n",
      "212\n",
      "214\n",
      "216\n",
      "218\n",
      "220\n",
      "222\n",
      "224\n",
      "226\n",
      "228\n",
      "230\n",
      "232\n",
      "234\n",
      "236\n",
      "238\n",
      "240\n",
      "242\n",
      "244\n",
      "246\n",
      "248\n",
      "250\n",
      "252\n",
      "254\n",
      "256\n",
      "258\n",
      "260\n",
      "262\n",
      "264\n",
      "266\n",
      "268\n",
      "270\n",
      "272\n",
      "274\n",
      "276\n",
      "278\n",
      "280\n",
      "282\n",
      "284\n",
      "286\n",
      "288\n",
      "290\n",
      "292\n",
      "294\n",
      "296\n",
      "298\n",
      "300\n",
      "302\n",
      "304\n",
      "306\n",
      "308\n",
      "310\n",
      "312\n",
      "314\n",
      "316\n",
      "318\n",
      "320\n",
      "322\n",
      "324\n",
      "326\n",
      "328\n",
      "330\n",
      "332\n",
      "334\n",
      "336\n",
      "338\n",
      "340\n",
      "342\n",
      "344\n",
      "346\n",
      "348\n",
      "350\n",
      "352\n",
      "354\n",
      "356\n",
      "358\n",
      "360\n",
      "362\n",
      "364\n",
      "366\n",
      "368\n",
      "370\n",
      "372\n",
      "374\n",
      "376\n",
      "378\n",
      "380\n",
      "382\n",
      "384\n",
      "386\n",
      "388\n",
      "390\n",
      "392\n",
      "394\n",
      "396\n",
      "398\n",
      "400\n",
      "402\n",
      "404\n",
      "406\n",
      "408\n",
      "410\n",
      "412\n",
      "414\n",
      "416\n",
      "418\n",
      "420\n",
      "422\n",
      "424\n",
      "426\n",
      "428\n",
      "430\n",
      "432\n",
      "434\n",
      "436\n",
      "438\n",
      "440\n",
      "442\n",
      "444\n",
      "446\n",
      "448\n",
      "450\n",
      "452\n",
      "454\n",
      "456\n",
      "458\n",
      "460\n",
      "462\n",
      "464\n",
      "466\n",
      "468\n",
      "470\n",
      "472\n",
      "474\n",
      "476\n",
      "478\n",
      "480\n",
      "482\n",
      "484\n",
      "486\n",
      "488\n",
      "490\n",
      "492\n",
      "494\n",
      "496\n",
      "498\n"
     ]
    }
   ],
   "source": [
    "# Iterate through numbers from 0 to 4\n",
    "for index in range(0,500,2):\n",
    "    print(index)"
   ]
  }
 ],
 "metadata": {
  "kernelspec": {
   "display_name": "Python 3 (ipykernel)",
   "language": "python",
   "name": "python3"
  },
  "language_info": {
   "codemirror_mode": {
    "name": "ipython",
    "version": 3
   },
   "file_extension": ".py",
   "mimetype": "text/x-python",
   "name": "python",
   "nbconvert_exporter": "python",
   "pygments_lexer": "ipython3",
   "version": "3.9.9"
  }
 },
 "nbformat": 4,
 "nbformat_minor": 5
}
